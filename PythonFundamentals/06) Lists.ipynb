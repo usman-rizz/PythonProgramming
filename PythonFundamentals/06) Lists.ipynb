{
 "cells": [
  {
   "cell_type": "markdown",
   "id": "124dafe1",
   "metadata": {},
   "source": [
    "\n",
    "<h1 align=\"center\" style=\"background-color:#001f3f;\n",
    "           color:white;\n",
    "           border-radius:8px;\n",
    "           font-family:'Times New Roman', Times, serif;\n",
    "           padding:20px;\n",
    "           display:inline-block;\">\n",
    "   LIST\n",
    "</h1>\n",
    "\n",
    "<p> A list is a `mutable, ordered collection` in Python that can hold multiple items of different types (integers, strings, floats, even other lists).<p>"
   ]
  },
  {
   "cell_type": "code",
   "execution_count": 43,
   "id": "5eef55a8",
   "metadata": {},
   "outputs": [
    {
     "name": "stdout",
     "output_type": "stream",
     "text": [
      "[1, 2, 3, 4, 5]\n",
      "------------------\n",
      "\n",
      "['Hello', 2556, 6.8, True, None, {'Name': 'Mani'}, (1, 2, 3), [4, 5, 6]]\n",
      "<class 'list'>\n"
     ]
    }
   ],
   "source": [
    "# Creating a simple list\n",
    "my_list = [1, 2, 3, 4, 5]\n",
    "print(my_list)\n",
    "print(\"------------------\")\n",
    "print()\n",
    "\n",
    "# Creating a list of items with different dtypes\n",
    "stuff = [\"Hello\", 2556, 6.8, True, None, {\"Name\": \"Mani\"}, (1, 2, 3), [4, 5, 6]]\n",
    "print(stuff)\n",
    "print(type(stuff))"
   ]
  },
  {
   "cell_type": "markdown",
   "id": "946b2709",
   "metadata": {},
   "source": [
    "Here is the link to the official [Python List Documentation](https://python-reference.readthedocs.io/en/latest/docs/list/?utm_source=chatgpt.com).  \n",
    "You can go through it and explore multiple list methods, then try applying them in your projects.  \n",
    "\n",
    "**Note:** Always remember to read the documentation whenever you learn something new it’s the best way to understand concepts deeply, discover hidden features, and improve your problem-solving skills. Even professional developers rely on documentation as a guide.\n"
   ]
  },
  {
   "cell_type": "code",
   "execution_count": null,
   "id": "ee7f8a50",
   "metadata": {},
   "outputs": [
    {
     "name": "stdout",
     "output_type": "stream",
     "text": [
      "['python', 'java', 'c++', 'c#']\n"
     ]
    }
   ],
   "source": [
    "# Applying some list methods\n",
    "# Creating a list and play with list methods\n",
    "\n",
    "stuffs = [\"python\",\"java\",\"c++\",\"c#\"]\n",
    "print(stuffs)\n"
   ]
  },
  {
   "cell_type": "code",
   "execution_count": null,
   "id": "367f3c79",
   "metadata": {},
   "outputs": [
    {
     "name": "stdout",
     "output_type": "stream",
     "text": [
      "['python', 'java', 'c++', 'c#']\n",
      "['python', 'java', 'c++', 'c#', 'javascript']\n"
     ]
    }
   ],
   "source": [
    "# now add 1 new items in list\n",
    "stuffs.append(\"javascript\")\n",
    "print(stuffs)       # it will modify the original list"
   ]
  },
  {
   "cell_type": "code",
   "execution_count": 45,
   "id": "403e19f5",
   "metadata": {},
   "outputs": [
    {
     "name": "stdout",
     "output_type": "stream",
     "text": [
      "['python', 'java', 'c++', 'c#', 'javascript', 'Snowflake', 'AWS']\n"
     ]
    }
   ],
   "source": [
    "# now add 2 items in list\n",
    "stuffs.extend([\"Snowflake\", \"AWS\"])\n",
    "print(stuffs)       # it will also modify the original list"
   ]
  },
  {
   "cell_type": "code",
   "execution_count": 46,
   "id": "cd243cda",
   "metadata": {},
   "outputs": [
    {
     "name": "stdout",
     "output_type": "stream",
     "text": [
      "['python', 'java', 'c++', 'c#', 'javascript', 'Snowflake']\n",
      "['python', 'java', 'c++', 'c#', 'Snowflake']\n"
     ]
    }
   ],
   "source": [
    "# delete AWS from list by name\n",
    "stuffs.remove(\"AWS\")\n",
    "print(stuffs) \n",
    "\n",
    "# delete javascript from list trrough indexing\n",
    "stuffs.pop(4)\n",
    "print(stuffs)\n",
    "\n",
    "# if you re run this cell it will give error because javascript and AWS is already deleted"
   ]
  },
  {
   "cell_type": "code",
   "execution_count": null,
   "id": "8d849b38",
   "metadata": {},
   "outputs": [
    {
     "name": "stdout",
     "output_type": "stream",
     "text": [
      "list:['python', 'java', 'c++', 'c#', 'Snowflake']\n"
     ]
    },
    {
     "data": {
      "text/plain": [
       "['python', 'java', 'c++', 'Snowflake']"
      ]
     },
     "execution_count": 47,
     "metadata": {},
     "output_type": "execute_result"
    }
   ],
   "source": [
    "# delete c# using del keyword\n",
    "print(f\"list:{stuffs}\")\n",
    "del stuffs[3]\n",
    "stuffs\n",
    "\n",
    "# if you re-run this cell it will delete c++ because c# is already deleted"
   ]
  },
  {
   "cell_type": "code",
   "execution_count": 48,
   "id": "64aff770",
   "metadata": {},
   "outputs": [
    {
     "data": {
      "text/plain": [
       "['python', 'java', 'c++', 'Snowflake']"
      ]
     },
     "execution_count": 48,
     "metadata": {},
     "output_type": "execute_result"
    }
   ],
   "source": [
    "stuffs"
   ]
  },
  {
   "cell_type": "code",
   "execution_count": null,
   "id": "d99725a8",
   "metadata": {},
   "outputs": [
    {
     "name": "stdout",
     "output_type": "stream",
     "text": [
      "[]\n"
     ]
    }
   ],
   "source": [
    "# if we want to remove all items from list\n",
    "stuffs.clear()\n",
    "print(stuffs)  "
   ]
  },
  {
   "cell_type": "code",
   "execution_count": 64,
   "id": "0f4d7da5",
   "metadata": {},
   "outputs": [
    {
     "name": "stdout",
     "output_type": "stream",
     "text": [
      "['BMW', 'Audi', 'Toyota', 'Honda', 'Ford']\n"
     ]
    },
    {
     "data": {
      "text/plain": [
       "list"
      ]
     },
     "execution_count": 64,
     "metadata": {},
     "output_type": "execute_result"
    }
   ],
   "source": [
    "# lets create a new list and paly with it\n",
    "\n",
    "cars = [\"BMW\", \"Audi\", \"Toyota\", \"Honda\", \"Ford\"]\n",
    "print(cars)\n",
    "\n",
    "type(cars)\n"
   ]
  },
  {
   "cell_type": "code",
   "execution_count": null,
   "id": "98a3955d",
   "metadata": {},
   "outputs": [
    {
     "name": "stdout",
     "output_type": "stream",
     "text": [
      "Mercedes added at index 2: ['BMW', 'Audi', 'Mercedes', 'Toyota', 'Honda', 'Ford']\n"
     ]
    }
   ],
   "source": [
    "# if we want to add an item at a specific index\n",
    "cars.insert(2, \"Mercedes\")\n",
    "print(f\"Mercedes added at index 2: {cars}\")\n",
    "\n",
    "#  if u re-run this cell it will add another Mercedes at index 2 and push Toyota and other items to right"
   ]
  },
  {
   "cell_type": "code",
   "execution_count": 67,
   "id": "fd769826",
   "metadata": {},
   "outputs": [
    {
     "data": {
      "text/plain": [
       "['BMW', 'Audi', 'Mercedes', 'Toyota', 'Honda', 'Ford']"
      ]
     },
     "execution_count": 67,
     "metadata": {},
     "output_type": "execute_result"
    }
   ],
   "source": [
    "cars"
   ]
  },
  {
   "cell_type": "code",
   "execution_count": 69,
   "id": "265a81b2",
   "metadata": {},
   "outputs": [
    {
     "name": "stdout",
     "output_type": "stream",
     "text": [
      "Toyota found at index: 3\n"
     ]
    }
   ],
   "source": [
    "# if we want to know the position of an item eg where's the position of Toyata\n",
    "position = cars.index(\"Toyota\") \n",
    "print(f\"Toyota found at index: {position}\")"
   ]
  },
  {
   "cell_type": "code",
   "execution_count": null,
   "id": "2a6e2065",
   "metadata": {},
   "outputs": [
    {
     "name": "stdout",
     "output_type": "stream",
     "text": [
      "[76, 98, 67]\n",
      "Reverse list: None\n",
      "Reversed list: [76, 98, 67]\n"
     ]
    }
   ],
   "source": [
    "# if we want to reverse a list\n",
    "stuff3 = [67,98,76]\n",
    "stuff3.reverse()\n",
    "print(stuff3)\n",
    "\n",
    "# also (remember lecture 04)\n",
    "rev = stuff3.reverse()\n",
    "print(f\"Reverse list: {rev}\")\n",
    "# It only modifies the list but returns None.\n",
    "\n",
    "# next step \n",
    "rev = list(reversed(stuff3))\n",
    "print(f\"Reversed list: {rev}\")  \n"
   ]
  },
  {
   "cell_type": "markdown",
   "id": "1cd04191",
   "metadata": {},
   "source": [
    ">**Getting complex**"
   ]
  },
  {
   "cell_type": "code",
   "execution_count": 10,
   "id": "6b2de4e1",
   "metadata": {},
   "outputs": [
    {
     "name": "stdout",
     "output_type": "stream",
     "text": [
      "Final List: ['apple', 'amngo', 'banaana']\n",
      "<class 'list'>\n"
     ]
    }
   ],
   "source": [
    "# if we want to take items from user and add in list\n",
    "lst = input(\"Enter items separated by space: \").split()\n",
    "print(\"Final List:\", lst)\n",
    "print(type(lst))"
   ]
  },
  {
   "cell_type": "code",
   "execution_count": null,
   "id": "e562dd3f",
   "metadata": {},
   "outputs": [
    {
     "name": "stdout",
     "output_type": "stream",
     "text": [
      "Final List: ['apple', 'orange', 'strawberry']\n"
     ]
    }
   ],
   "source": [
    "# if we want to create a list by taking multiple items from the user \n",
    "\n",
    "lstt = int(input(\"How many items u want to add: \"))\n",
    "items = []\n",
    "for i in range(lstt):\n",
    "    item = input(f\"Enter item {i+1}: \")\n",
    "    items.append(item)\n",
    "\n",
    "print(\"Final List:\", items)\n",
    "\n"
   ]
  }
 ],
 "metadata": {
  "kernelspec": {
   "display_name": "Python 3",
   "language": "python",
   "name": "python3"
  },
  "language_info": {
   "codemirror_mode": {
    "name": "ipython",
    "version": 3
   },
   "file_extension": ".py",
   "mimetype": "text/x-python",
   "name": "python",
   "nbconvert_exporter": "python",
   "pygments_lexer": "ipython3",
   "version": "3.12.0"
  }
 },
 "nbformat": 4,
 "nbformat_minor": 5
}
