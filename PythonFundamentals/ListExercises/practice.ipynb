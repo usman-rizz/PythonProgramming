{
 "cells": [
  {
   "cell_type": "markdown",
   "id": "83ad5dc1",
   "metadata": {},
   "source": [
    "**Question:\n",
    "Write a Python program that asks the user to enter the number of elements, then takes that many integer inputs to form a list. After creating the list, display the original list, print the alternate elements of the list using step indexing, and then display the list sorted in ascending as well as in descending order.**"
   ]
  },
  {
   "cell_type": "code",
   "execution_count": 47,
   "id": "2c02cae7",
   "metadata": {},
   "outputs": [
    {
     "name": "stdout",
     "output_type": "stream",
     "text": [
      "[3, 54, 32, 12, 1]\n",
      "Alternate elements are: [3, 32, 1]\n",
      "Original list is updated (ascending): [1, 3, 12, 32, 54]\n",
      "Sorted list: [1, 3, 12, 32, 54]\n",
      "Sorted list (descending): [54, 32, 12, 3, 1]\n"
     ]
    }
   ],
   "source": [
    "ele = int(input(\"Enter the no of elements: \"))\n",
    "listt = []\n",
    "\n",
    "for i in range(ele):\n",
    "    items = int(input(f\"Enter item {i+1}: \"))\n",
    "    listt.append(items)\n",
    "print(listt)\n",
    "\n",
    "print(\"Alternate elements are:\", listt[::2])\n",
    "\n",
    "# Ascending order\n",
    "listt.sort()\n",
    "print(f\"Original list is updated (ascending): {listt}\")                     # this will modify the list\n",
    "# or\n",
    "\n",
    "# list without changing the original list\n",
    "print(\"Sorted list:\", sorted(listt))\n",
    "\n",
    "# decending order\n",
    "# listt.sort(reverse=True)\n",
    "print(\"Sorted list (descending):\", sorted(listt,reverse=True))\n",
    "\n"
   ]
  },
  {
   "cell_type": "markdown",
   "id": "107cdd6b",
   "metadata": {},
   "source": [
    "**Question:\\\n",
    "Write a Python program that takes n integers from the user, stores them in a list, then separates the list into two lists: one containing only even numbers and one containing only odd numbers. Finally, display the count of even and odd numbers and print both lists in sorted order.**"
   ]
  },
  {
   "cell_type": "code",
   "execution_count": 76,
   "id": "e85ecca4",
   "metadata": {},
   "outputs": [
    {
     "name": "stdout",
     "output_type": "stream",
     "text": [
      "My list: [12, 87, 54, 98, 34]\n",
      "\n",
      "12, is an even number\n",
      "87, is an odd number\n",
      "54, is an even number\n",
      "98, is an even number\n",
      "34, is an even number\n",
      "\n",
      "Even numbers list: [12, 54, 98, 34]\n",
      "Sorted Even list (Ascending): [12, 34, 54, 98]\n",
      "Count of Even number:  5\n",
      "\n",
      "Odd numbers list: [87]\n",
      "Sorted Odd list (Ascending): [87]\n",
      "Count of Odd number:  5\n"
     ]
    }
   ],
   "source": [
    "num = int(input(\"Enter the numbers; \"))\n",
    "\n",
    "my_list =[]\n",
    "l_even = []\n",
    "l_odd = []\n",
    "\n",
    "count = 0\n",
    "\n",
    "for i in range(num):\n",
    "    element = int(input(f\"Enter the elements:{i+1} \"))\n",
    "    my_list.append(element)\n",
    "\n",
    "print(f\"My list: {my_list}\")  \n",
    "print()\n",
    "\n",
    "for i in my_list:\n",
    "\n",
    "    if i % 2 == 0:\n",
    "        print(f\"{i}, is an even number\")\n",
    "        l_even.append(i)\n",
    "        count = count +1\n",
    "    else:\n",
    "        print(f\"{i}, is an odd number\")\n",
    "        l_odd.append(i)\n",
    "        count = count +1\n",
    "\n",
    "print()\n",
    "print(f\"Even numbers list: {l_even}\")\n",
    "print(\"Sorted Even list (Ascending):\", sorted(l_even))\n",
    "print(\"Count of Even number: \", count)\n",
    "\n",
    "print()\n",
    "print(f\"Odd numbers list: {l_odd}\") \n",
    "print(\"Sorted Odd list (Ascending):\", sorted(l_odd)) \n",
    "print(\"Count of Odd number: \", count)\n",
    "\n",
    "\n"
   ]
  },
  {
   "cell_type": "markdown",
   "id": "4ec72ab3",
   "metadata": {},
   "source": [
    "**Question:\\\n",
    "Write a Python program that accepts n integers from the user, stores them in a list, removes duplicate values, then finds and displays the maximum and minimum numbers in the list along with their positions (indexes).**"
   ]
  },
  {
   "cell_type": "code",
   "execution_count": 92,
   "id": "ccd4b63e",
   "metadata": {},
   "outputs": [
    {
     "name": "stdout",
     "output_type": "stream",
     "text": [
      "My List: [23, 45, 67, 43, 23]\n",
      "\n",
      "Duplicate found..23\n",
      "Unique vallues: [23, 45, 67, 43]\n",
      "\n",
      "Minimum value: 23\n",
      "Maximum value: 67\n"
     ]
    }
   ],
   "source": [
    "num1 = int(input(\"Enter the number: \"))\n",
    "my_List = []\n",
    "dup = []\n",
    "found = False\n",
    "\n",
    "for i in range(num1):\n",
    "    ele = int(input(\"Enter elements: \"))\n",
    "    my_List.append(ele)\n",
    "print(f\"My List: {my_List}\")\n",
    "print()\n",
    "\n",
    "for n in my_List:\n",
    "    if n not in dup:\n",
    "        dup.append(n)\n",
    "    else:\n",
    "        print(f\"Duplicate found..{n}\")\n",
    "        found = True\n",
    "\n",
    "if not found:\n",
    "       print(\"No duplicates found\")\n",
    "\n",
    "print(f\"Unique vallues: {dup}\")\n",
    "print()\n",
    "\n",
    "# for min and max\n",
    "min_val = my_List[0]\n",
    "max_val = my_List[0]\n",
    "\n",
    "for i in my_List:\n",
    "    if i < min_val:\n",
    "        min_val = i\n",
    "    if i > max_val:\n",
    "        max_val = i\n",
    "\n",
    "print(f\"Minimum value: {min_val}\")\n",
    "print(f\"Maximum value: {max_val}\")\n"
   ]
  },
  {
   "cell_type": "markdown",
   "id": "eeeb452f",
   "metadata": {},
   "source": [
    "**Question:\\\n",
    "Write a Python program that asks the user to enter the number of students. For each student, input their name and three subject marks. Store data in a list of dictionaries, then display each student’s name with their total and average marks. Finally, display the student with the highest average.**"
   ]
  },
  {
   "cell_type": "code",
   "execution_count": 96,
   "id": "8dba18da",
   "metadata": {},
   "outputs": [
    {
     "name": "stdout",
     "output_type": "stream",
     "text": [
      "\n",
      "All student records:\n",
      "[{'name': 'usman', 'marks': [67, 89, 55], 'average': 70.33333333333333, 'highest': 89}, {'name': 'asad', 'marks': [65, 99, 87], 'average': 83.66666666666667, 'highest': 99}, {'name': 'il', 'marks': [56, 67, 56], 'average': 59.666666666666664, 'highest': 67}]\n"
     ]
    }
   ],
   "source": [
    "def students():\n",
    "    students_list = []\n",
    "    noOfStud = int(input(\"Enter no of students: \"))\n",
    "\n",
    "    for i in range(noOfStud):\n",
    "        name = input(f\"\\nEnter name of student {i+1}: \")\n",
    "\n",
    "        marks = []\n",
    "        for j in range(3):  \n",
    "            mark = int(input(f\"Enter mark {j+1} for {name}: \"))\n",
    "            marks.append(mark)\n",
    "\n",
    "       # calculate total, average, and highest for this student\n",
    "        total = sum(marks)\n",
    "        avg = total / len(marks)\n",
    "        highest = max(marks)\n",
    "\n",
    "        student_dict = {\n",
    "            \"name\": name,\n",
    "            \"marks\": marks,\n",
    "            \"average\": avg,\n",
    "            \"highest\": highest\n",
    "        }\n",
    "        students_list.append(student_dict)\n",
    "\n",
    "    return students_list\n",
    "\n",
    "\n",
    "\n",
    "all_students = students()\n",
    "print(\"\\nAll student records:\")\n",
    "print(all_students)\n"
   ]
  }
 ],
 "metadata": {
  "kernelspec": {
   "display_name": "Python 3",
   "language": "python",
   "name": "python3"
  },
  "language_info": {
   "codemirror_mode": {
    "name": "ipython",
    "version": 3
   },
   "file_extension": ".py",
   "mimetype": "text/x-python",
   "name": "python",
   "nbconvert_exporter": "python",
   "pygments_lexer": "ipython3",
   "version": "3.12.0"
  }
 },
 "nbformat": 4,
 "nbformat_minor": 5
}
