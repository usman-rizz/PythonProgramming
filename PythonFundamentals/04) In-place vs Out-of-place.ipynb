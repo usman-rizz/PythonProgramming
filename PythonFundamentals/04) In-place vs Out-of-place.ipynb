{
 "cells": [
  {
   "cell_type": "markdown",
   "id": "62ce6969",
   "metadata": {},
   "source": [
    "<h1 align=\"center\" style=\"background-color:#001f3f;\n",
    "           color:white;\n",
    "           border-radius:8px;\n",
    "           font-family:'Times New Roman', Times, serif;\n",
    "           padding:20px;\n",
    "           display:inline-block;\">\n",
    "In-place vs Out-of-place\n",
    "</h1>\n",
    "\n",
    "\n"
   ]
  },
  {
   "cell_type": "markdown",
   "id": "a65265e4",
   "metadata": {},
   "source": [
    "<h1 style= \"background-color:#001f3f;\n",
    "           color:white;\n",
    "           border-radius:8px;\n",
    "           font-family:'Times New Roman', Times, serif;\n",
    "           padding:20px;\n",
    "           display:inline-block; \">        \n",
    "In-Place Operators\n",
    "\n",
    "</h1>\n"
   ]
  },
  {
   "cell_type": "markdown",
   "id": "51c98b56",
   "metadata": {
    "vscode": {
     "languageId": "raw"
    }
   },
   "source": [
    "An in-place operation directly modifies the original object in memory instead of creating a new one. \n",
    "\n",
    "It usually returns None because the change is already applied.\n",
    "\n",
    "In-place is supported by mutable types like lists, sets, and dictionaries.\n"
   ]
  },
  {
   "cell_type": "code",
   "execution_count": null,
   "id": "4961d7cf",
   "metadata": {},
   "outputs": [
    {
     "name": "stdout",
     "output_type": "stream",
     "text": [
      "['BMW', '123', 123, 'FRUITS', 'Alto']\n",
      "None\n"
     ]
    }
   ],
   "source": [
    "stuff = [\"BMW\", \"123\", 123, \"FRUITS\"]\n",
    "# add new item in list\n",
    "stuff.append(\"Alto\")\n",
    "print(stuff)\n",
    "\n",
    "\n",
    "# if we try to create a new variable and store `stuff.append(\"Alto\")` this will return None\n",
    "\n",
    "stuff = [\"BMW\", \"123\", 123, \"FRUITS\"]\n",
    "# add new item in list\n",
    "new_list = stuff.append(\"Alto\")\n",
    "print(new_list)"
   ]
  },
  {
   "cell_type": "markdown",
   "id": "61fe267f",
   "metadata": {},
   "source": [
    "<h1 style= \"background-color:#001f3f;\n",
    "           color:white;\n",
    "           border-radius:8px;\n",
    "           font-family:'Times New Roman', Times, serif;\n",
    "           padding:20px;\n",
    "           display:inline-block; \">        \n",
    "Out-of place Operators\n",
    "\n",
    "</h1>\n"
   ]
  },
  {
   "cell_type": "markdown",
   "id": "3d9b072e",
   "metadata": {
    "vscode": {
     "languageId": "raw"
    }
   },
   "source": [
    "An out-of-place operation does not change the original object. \n",
    "\n",
    "Instead, it creates and returns a new object, leaving the original unchanged.\n",
    "\n",
    "Immutable types like strings, tuples, and numbers always work out-of-place because they cannot be modified."
   ]
  },
  {
   "cell_type": "code",
   "execution_count": null,
   "id": "c20023f2",
   "metadata": {},
   "outputs": [
    {
     "name": "stdout",
     "output_type": "stream",
     "text": [
      "Before change: hello\n",
      "After change: HELLO\n"
     ]
    }
   ],
   "source": [
    "s = \"hello\"\n",
    "new_s = s.upper()    # keep the copy of s in new variable\n",
    "\n",
    "print(f\"Before change: {s}\")    \n",
    "print(f\"After change: {new_s}\")  \n"
   ]
  },
  {
   "cell_type": "code",
   "execution_count": 21,
   "id": "51f82818",
   "metadata": {},
   "outputs": [
    {
     "name": "stdout",
     "output_type": "stream",
     "text": [
      "Sorted tuple (1, 2, 3, 4)\n"
     ]
    }
   ],
   "source": [
    "num = (1,4,3,2)\n",
    "\n",
    "# now sort it\n",
    "# since tuple have not sort() keyword\n",
    "# and tuple cant be changed so we make a new variable of it\n",
    "\n",
    "sort = tuple(sorted(num))\n",
    "print(f\"Sorted tuple {sort}\")"
   ]
  },
  {
   "cell_type": "code",
   "execution_count": 20,
   "id": "518bffef",
   "metadata": {},
   "outputs": [
    {
     "data": {
      "text/plain": [
       "[1, 2, 4, 5]"
      ]
     },
     "execution_count": 20,
     "metadata": {},
     "output_type": "execute_result"
    }
   ],
   "source": [
    "numb = (1,4,5,2)\n",
    "va = sorted(numb)\n",
    "va    "
   ]
  },
  {
   "cell_type": "markdown",
   "id": "3ba8eab2",
   "metadata": {},
   "source": [
    "**The `sorted() function` always returns a `list`, even if the input was a tuple or string. If I want the result back as a tuple, I explicitly convert it using `tuple(sorted(...))`**"
   ]
  },
  {
   "cell_type": "markdown",
   "id": "d484bdbd",
   "metadata": {},
   "source": [
    "## **Why Does This Matter in Industry?**\n",
    "\n",
    "**Performance / Memory**\n",
    "\n",
    "- In-place saves memory (no copy is made).\n",
    "\n",
    "- Useful for large datasets (like Pandas, NumPy, Machine Learning).\n",
    "\n",
    " **Data Safety**\n",
    "\n",
    "- Out-of-place is safer when you need to keep the original data intact.\n",
    "\n",
    "- **Example:** In analytics pipelines, you don’t want to overwrite raw data.\n",
    "\n",
    " **Readability & Maintainability**\n",
    "\n",
    "- Developers need to know whether a function changes the original data or returns a new copy.\n",
    "\n",
    "- This is a common source of bugs."
   ]
  }
 ],
 "metadata": {
  "kernelspec": {
   "display_name": "Python 3",
   "language": "python",
   "name": "python3"
  },
  "language_info": {
   "codemirror_mode": {
    "name": "ipython",
    "version": 3
   },
   "file_extension": ".py",
   "mimetype": "text/x-python",
   "name": "python",
   "nbconvert_exporter": "python",
   "pygments_lexer": "ipython3",
   "version": "3.12.0"
  }
 },
 "nbformat": 4,
 "nbformat_minor": 5
}
