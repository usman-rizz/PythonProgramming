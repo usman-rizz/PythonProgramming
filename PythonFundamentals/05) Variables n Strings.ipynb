{
 "cells": [
  {
   "cell_type": "markdown",
   "id": "0ce0a8c5",
   "metadata": {},
   "source": [
    "\n",
    "\n",
    "<h1 align=\"center\" style=\"background-color:#001f3f;\n",
    "           color:white;\n",
    "           border-radius:8px;\n",
    "           font-family:'Times New Roman', Times, serif;\n",
    "           padding:20px;\n",
    "           display:inline-block;\">\n",
    "   VARIABLES AND STRINGS\n",
    "</h1>\n"
   ]
  },
  {
   "cell_type": "markdown",
   "id": "f3e357be",
   "metadata": {},
   "source": [
    "<h1 style= \"background-color:#001f3f;\n",
    "           color:white;\n",
    "           border-radius:8px;\n",
    "           font-family:'Times New Roman', Times, serif;\n",
    "           padding:20px;\n",
    "           display:inline-block; \">VARIABLES</h1>\n"
   ]
  },
  {
   "cell_type": "markdown",
   "id": "882accde",
   "metadata": {
    "vscode": {
     "languageId": "raw"
    }
   },
   "source": [
    "A variable is like a container used to store data. You give it a name, and it holds a value.\n",
    "\n",
    "If we store different text or numbers in the same variable, it will replace the old value with new one.\n",
    "\n",
    "Rules for naming variables:\n",
    "- Variable names can contain letters (a-z, A-Z), digits (0-9), and underscores (_).\n",
    "- Variable names must start with a letter or an underscore, not a digit\n",
    "- Avoid using Python keywords (like if, for, while, etc.) as variable names.\n",
    "\n",
    "Tip: Use meaningful variable names that describe the data they hold, like age, name, or total_price."
   ]
  },
  {
   "cell_type": "code",
   "execution_count": null,
   "id": "44cfb682",
   "metadata": {},
   "outputs": [
    {
     "name": "stdout",
     "output_type": "stream",
     "text": [
      "10\n",
      "20\n",
      "30\n"
     ]
    }
   ],
   "source": [
    "var1 = 10\n",
    "print(var1)    # 10 is staored in var1 that is a container\n",
    "\n",
    "var2 = 20\n",
    "print(var2)\n",
    "\n",
    "# sum var 1 nd var2 and store in var3\n",
    "var3 = var1 + var2\n",
    "print(var3)"
   ]
  },
  {
   "cell_type": "code",
   "execution_count": null,
   "id": "c40da84c",
   "metadata": {},
   "outputs": [
    {
     "name": "stdout",
     "output_type": "stream",
     "text": [
      "asad\n"
     ]
    }
   ],
   "source": [
    "name = \"usman\"\n",
    "name = \"asad\"\n",
    "print(name)\n",
    "\n",
    "# it replace old value with the new one."
   ]
  },
  {
   "cell_type": "code",
   "execution_count": null,
   "id": "dbacd6ed",
   "metadata": {},
   "outputs": [
    {
     "name": "stdout",
     "output_type": "stream",
     "text": [
      "123\n",
      "12345\n"
     ]
    }
   ],
   "source": [
    "# 123 = \"number\"\n",
    "# print(123)  \n",
    "\n",
    "# This will cause a syntax error because variable names cannot start with a digit.\n",
    "# Uncomment and run by yourself.\n",
    "\n",
    "Number = 123\n",
    "print(Number)\n",
    "\n",
    "# this is also valid\n",
    "_123Num = 12345\n",
    "print(_123Num)\n",
    "\n",
    "# Rules are followed thats why it is printing, but avoid it buz in python names starting with \n",
    "# _ usually mean “private” (used inside a module/class, not for public use)."
   ]
  },
  {
   "cell_type": "code",
   "execution_count": null,
   "id": "416935e7",
   "metadata": {},
   "outputs": [
    {
     "ename": "SyntaxError",
     "evalue": "invalid syntax (1030668061.py, line 1)",
     "output_type": "error",
     "traceback": [
      "  \u001b[36mCell\u001b[39m\u001b[36m \u001b[39m\u001b[32mIn[20]\u001b[39m\u001b[32m, line 1\u001b[39m\n\u001b[31m    \u001b[39m\u001b[31mif = \"Myself Usman\"\u001b[39m\n       ^\n\u001b[31mSyntaxError\u001b[39m\u001b[31m:\u001b[39m invalid syntax\n"
     ]
    }
   ],
   "source": [
    "# if = \"Myself Usman\"\n",
    "# print (if)  \n",
    "\n",
    "# uncomment and run by yourself.\n",
    "# This will cause a syntax error because 'if' is a reserved keyword in Python."
   ]
  },
  {
   "cell_type": "markdown",
   "id": "3ee2ad48",
   "metadata": {},
   "source": [
    "<h1 style= \"background-color:#001f3f;\n",
    "           color:white;\n",
    "           border-radius:8px;\n",
    "           font-family:'Times New Roman', Times, serif;\n",
    "           padding:20px;\n",
    "           display:inline-block; \">        \n",
    "STRINGS\n",
    "\n",
    "</h1>\n"
   ]
  },
  {
   "cell_type": "markdown",
   "id": "7e5f31e0",
   "metadata": {
    "vscode": {
     "languageId": "raw"
    }
   },
   "source": [
    "A string is a sequence of characters enclosed in single ('ABC'), double(\"ABC\"), or triple/Single quotes ('''...''' / \"\"\"...\"\"\").\n",
    "\n",
    "Strings are used to store text, numbers, and other data types.\n",
    "\n",
    "Strings are immutable, meaning once created, their characters cannot be changed.\n"
   ]
  },
  {
   "cell_type": "code",
   "execution_count": null,
   "id": "742c47e2",
   "metadata": {},
   "outputs": [
    {
     "name": "stdout",
     "output_type": "stream",
     "text": [
      "My name is Usman,\n",
      "and address is: ABC Street, XYZ City\n"
     ]
    }
   ],
   "source": [
    "# Triple quotes can be used for multi-line strings.\n",
    "address = '''My name is Usman,\n",
    "and address is: ABC Street, XYZ City'''\n",
    "print(address)"
   ]
  },
  {
   "cell_type": "code",
   "execution_count": 40,
   "id": "f52b1a0b",
   "metadata": {},
   "outputs": [
    {
     "name": "stdout",
     "output_type": "stream",
     "text": [
      "My name is Usman\n",
      "My age is 22\n"
     ]
    }
   ],
   "source": [
    "# Single anad double quotes can be used interchangeably.\n",
    "name = 'My name is Usman'\n",
    "age = \"My age is 22\"\n",
    "print(name)\n",
    "print(age)"
   ]
  },
  {
   "cell_type": "code",
   "execution_count": 43,
   "id": "fb1a6ce5",
   "metadata": {},
   "outputs": [],
   "source": [
    "# cant change a character in string\n",
    "\n",
    "Name = \"Osman\"\n",
    "# name[0] = \"U\"\n",
    "\n",
    "# print(Name)   # This will cause an error because strings are immutable.\n",
    "# Uncomment and run by yourself."
   ]
  },
  {
   "cell_type": "markdown",
   "id": "3d05d621",
   "metadata": {},
   "source": [
    "### - **String interpolation**\n",
    "putting variables or values inside a string directly, instead of joining them with +."
   ]
  },
  {
   "cell_type": "code",
   "execution_count": 44,
   "id": "47f82cad",
   "metadata": {},
   "outputs": [
    {
     "name": "stdout",
     "output_type": "stream",
     "text": [
      "My name is usman, age is 22, and qualification is BS Compuoter Science.\n",
      "Hello, My name is usman, age is 22, and Qualification is BS Compuoter Science.\n",
      "Hello, My name is usman, age is 22, and Qualification is BS Compuoter Science.\n"
     ]
    }
   ],
   "source": [
    "# Without Interpolation\n",
    "\n",
    "name = \"usman\"\n",
    "age = 22\n",
    "qualification = \"BS Compuoter Science.\"\n",
    "\n",
    "print(\"My name is \" + name + \", age is \" + str(age) + \", and qualification is \" + qualification)\n",
    "# here we have to convert age into string because it is integer.\n",
    "\n",
    "# With Interpolation (version python 3)\n",
    "print(\"Hello, My name is {}, age is {}, and Qualification is {}\".format(name, age, qualification))\n",
    "\n",
    "# f-strings (version python 3.6 and above)\n",
    "print(f\"Hello, My name is {name}, age is {age}, and Qualification is {qualification}\")\n"
   ]
  },
  {
   "cell_type": "markdown",
   "id": "113dbf11",
   "metadata": {},
   "source": [
    "### - **Accessing Characters and Words**"
   ]
  },
  {
   "cell_type": "code",
   "execution_count": 45,
   "id": "312741be",
   "metadata": {},
   "outputs": [
    {
     "name": "stdout",
     "output_type": "stream",
     "text": [
      "M\n"
     ]
    }
   ],
   "source": [
    "name = \"Muhammad Usman\"\n",
    "\n",
    "# now i want to access first character\n",
    "print(name[0])   \n",
    "\n",
    "# Note in programming numbering starts from 0 not 1.\n",
    "# last index should be length, - 1"
   ]
  },
  {
   "cell_type": "markdown",
   "id": "c6bc3fde",
   "metadata": {},
   "source": [
    "**Slicing:  string[start:end:step].**"
   ]
  },
  {
   "cell_type": "code",
   "execution_count": null,
   "id": "dc3ab023",
   "metadata": {},
   "outputs": [
    {
     "name": "stdout",
     "output_type": "stream",
     "text": [
      "This will print from index 0 till 8, Muhammad\n",
      "Mhma\n",
      " Usman\n",
      "Muhammad\n",
      "Muhammad Usman\n",
      "n\n",
      "man\n",
      "Muhamm\n"
     ]
    }
   ],
   "source": [
    "\n",
    "#  Now if we want to access a word\n",
    "\n",
    "print(f\"This will print from index 0 till 8, {name[0:8]}\")   \n",
    "# it will print from index 0 to 7 (but not including 8 ie space)\n",
    "\n",
    "# step argument is optional, default is 1, it skips characters in between\n",
    "print(name[0:8:2]) \n",
    "\n",
    "\n",
    "# more examples of slicing\n",
    "print(name[8:])\n",
    "print(name[:8])\n",
    "print(name[:])      # it will print full string\n",
    "print(name[-1])     # it will print last character\n",
    "print(name[-3:])    # it will print last 3 characters\n",
    "\n",
    "print(name[:-8]) \n",
    "\n",
    "# How name[:-8] works?\n",
    "# Answer:    -8 → means count 8 characters from the right → lands on \"a\" (in \"Muhammad\").\n",
    "# Slice goes from the start up to (but not including) that \"a\".#---->"
   ]
  },
  {
   "cell_type": "markdown",
   "id": "e36094a9",
   "metadata": {},
   "source": [
    "### -**String Operations**"
   ]
  },
  {
   "cell_type": "code",
   "execution_count": null,
   "id": "eeef4269",
   "metadata": {},
   "outputs": [
    {
     "name": "stdout",
     "output_type": "stream",
     "text": [
      " Hello, My  World!\n",
      " Hello, My  World!\n",
      " Hello, My World! Hello, My World! Hello, My World!\n",
      "----------------\n",
      " Hello, My World!\n"
     ]
    }
   ],
   "source": [
    "a = \" Hello, My\"\n",
    "b = \" World!\"\n",
    "print(a + \" \" + b)     # Without Interpolation\n",
    "print(f\"{a} {b}\")      # With Interpolation (f-strings)\n",
    "\n",
    "# if we want Hello, My World! 3 times what we do?\n",
    "c = (a + b) * 3\n",
    "print(c)\n",
    "print(\"----------------\")\n",
    "\n",
    "# Note strings and strings can be concatenated(+) and but cant multiplied(*).\n",
    "# print(a * b)                              # This will raise an error.\n",
    "print(a + b)"
   ]
  },
  {
   "cell_type": "markdown",
   "id": "8ca549a1",
   "metadata": {},
   "source": [
    "### -**String Methods (Functions)**"
   ]
  },
  {
   "cell_type": "code",
   "execution_count": null,
   "id": "056726ea",
   "metadata": {},
   "outputs": [
    {
     "name": "stdout",
     "output_type": "stream",
     "text": [
      "     PYTHON-PROGRAMMING       \n",
      "     python-programming       \n",
      "     Python-Programming       \n",
      "     python-programming       \n",
      "     pYTHON-pROGRAMMING       \n",
      "---------------\n",
      "\n",
      "     Jython-Jrogramming       \n",
      "Python-Programming\n",
      "Python-Programming       \n",
      "     Python-Programming\n",
      "['     Python', 'Programming       ']\n",
      "---------------\n",
      "\n",
      "False\n",
      "False\n",
      "False\n",
      "True\n",
      "10\n",
      "False\n",
      "True\n"
     ]
    }
   ],
   "source": [
    "# Case Changing\n",
    "text = \"     Python-Programming       \"\n",
    "\n",
    "print(text.upper())      \n",
    "print(text.lower())      \n",
    "print(text.title())      \n",
    "print(text.capitalize()) \n",
    "print(text.swapcase())\n",
    "print(\"---------------\")\n",
    "print()\n",
    "\n",
    "# Modification\n",
    "print(text.replace(\"P\", \"J\")) \n",
    "print(text.strip())         # removes spaces from both sides\n",
    "print(text.lstrip())        # removes from the left side\n",
    "print(text.rstrip())        # removes from the right side \n",
    "print(text.split(\"-\"))      # splits the string at the hyphen and returns a list of substrings\n",
    "\n",
    "# print(text.rename(\"Python\", \"Java\"))   # raise an error buz strings do not have a method named 'rename'.\n",
    "print(\"---------------\")\n",
    "print()\n",
    "\n",
    "# Checking strings  (return boolean values True/False)\n",
    "sentence = \"This is a sample sentence.\"\n",
    "print(sentence.isdigit())   \n",
    "print(sentence.isalpha())  \n",
    "print(sentence.startswith(\"he\"))  \n",
    "print(sentence.endswith(\"ce.\"))  \n",
    "print(sentence.find(\"sample\"))      # output 10 buz 's' of sample is at index 10\n",
    "print(\"Python\" in sentence)      \n",
    "print(\"Java\" not in sentence)      \n",
    "\n",
    "\n"
   ]
  },
  {
   "cell_type": "markdown",
   "id": "d8aa4c81",
   "metadata": {},
   "source": [
    "### -**Escape Sequece**"
   ]
  },
  {
   "cell_type": "markdown",
   "id": "086b44b6",
   "metadata": {
    "vscode": {
     "languageId": "raw"
    }
   },
   "source": [
    "Escape sequences are `special character` combinations in strings that start with a `backslash (\\)`. \n",
    "\n",
    "They are used to represent characters that cannot be typed directly, like \n",
    "`newline (\\n)`, `tab (\\t)`, `quotes (\\\")`, or a `backslash itself (\\\\)`.etc etc"
   ]
  },
  {
   "cell_type": "code",
   "execution_count": 78,
   "id": "f6eaffb2",
   "metadata": {},
   "outputs": [
    {
     "name": "stdout",
     "output_type": "stream",
     "text": [
      "This is python's world.\n",
      "Welcome to the \"Python\" programming! \tEnjoy coding!\n"
     ]
    }
   ],
   "source": [
    "text = \"This is python's world.\\nWelcome to the \\\"Python\\\" programming! \\tEnjoy coding!\"\n",
    "print(text)"
   ]
  },
  {
   "cell_type": "markdown",
   "id": "769cb4e0",
   "metadata": {},
   "source": [
    "Click [here](https://learndataworld.com/escape-sequences-in-python/) for more about escape sequences.\n"
   ]
  },
  {
   "cell_type": "markdown",
   "id": "3215f02d",
   "metadata": {},
   "source": [
    "### - **Raw Strings**"
   ]
  },
  {
   "cell_type": "markdown",
   "id": "5da69fc5",
   "metadata": {
    "vscode": {
     "languageId": "raw"
    }
   },
   "source": [
    "A raw string `(prefix with r)` tells Python: Don’t treat backslashes as special  take them literally.\n",
    "\n",
    "This is very useful when dealing with file paths\n",
    "`(like C:\\new_folder)` or regular expressions, where backslashes are common."
   ]
  },
  {
   "cell_type": "code",
   "execution_count": 82,
   "id": "a7ce74a5",
   "metadata": {},
   "outputs": [
    {
     "name": "stdout",
     "output_type": "stream",
     "text": [
      "Hello\\nWorld\n",
      "C:\\Users\\Usmann\\Documentss\n"
     ]
    }
   ],
   "source": [
    "print(r\"Hello\\nWorld\")\n",
    "\n",
    "path = r\"C:\\Users\\Usmann\\Documentss\"\n",
    "print(path)\n"
   ]
  }
 ],
 "metadata": {
  "kernelspec": {
   "display_name": "Python 3",
   "language": "python",
   "name": "python3"
  },
  "language_info": {
   "codemirror_mode": {
    "name": "ipython",
    "version": 3
   },
   "file_extension": ".py",
   "mimetype": "text/x-python",
   "name": "python",
   "nbconvert_exporter": "python",
   "pygments_lexer": "ipython3",
   "version": "3.12.0"
  }
 },
 "nbformat": 4,
 "nbformat_minor": 5
}
