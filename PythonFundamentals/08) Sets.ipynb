{
 "cells": [
  {
   "cell_type": "markdown",
   "id": "5a792896",
   "metadata": {},
   "source": [
    "\n",
    "<h1 align=\"center\" style=\"background-color:#001f3f;\n",
    "           color:white;\n",
    "           border-radius:8px;\n",
    "           font-family:'Times New Roman', Times, serif;\n",
    "           padding:20px;\n",
    "           display:inline-block;\">\n",
    "    SETS\n",
    "</h1>\n",
    "\n",
    "A set in Python is an `unordered`, `mutable collection` of unique elements.\n",
    "\n",
    "It’s similar to mathematical sets no duplicates, and supports set operations like *union, intersection, difference,* etc.\n",
    "\n",
    "It Automatically removes duplicates"
   ]
  },
  {
   "cell_type": "code",
   "execution_count": 58,
   "id": "88b2ba78",
   "metadata": {},
   "outputs": [
    {
     "name": "stdout",
     "output_type": "stream",
     "text": [
      "Set is created: {0, 1, 3, 4, 5, 6, 44}\n",
      "<class 'set'>\n"
     ]
    }
   ],
   "source": [
    "# lets  creates a set\n",
    "\n",
    "stuff = {1,0,3,3,44,4,5,6,6}\n",
    "print(f\"Set is created: {stuff}\")\n",
    "print(type(stuff))     # you can see in output all the values of set are in ordered and no duplicate values"
   ]
  },
  {
   "cell_type": "markdown",
   "id": "413ca629",
   "metadata": {},
   "source": [
    "If you want to create an empty Set"
   ]
  },
  {
   "cell_type": "code",
   "execution_count": 59,
   "id": "7ff7b75e",
   "metadata": {},
   "outputs": [
    {
     "name": "stdout",
     "output_type": "stream",
     "text": [
      "<class 'dict'>\n",
      "<class 'set'>\n"
     ]
    }
   ],
   "source": [
    "nums = {}\n",
    "print(type(nums))   # it will print dictionary because {} is used to create dictionary\n",
    "\n",
    "# so\n",
    "set_num = set()\n",
    "print(type(set_num)) "
   ]
  },
  {
   "cell_type": "markdown",
   "id": "74461fd4",
   "metadata": {},
   "source": [
    "## **Let Creates a set from List & Strings**\n",
    "\n",
    "Used to remove duplicates and get unique values easily"
   ]
  },
  {
   "cell_type": "code",
   "execution_count": 60,
   "id": "e55b893d",
   "metadata": {},
   "outputs": [
    {
     "data": {
      "text/plain": [
       "{1, 2, 3, 4}"
      ]
     },
     "execution_count": 60,
     "metadata": {},
     "output_type": "execute_result"
    }
   ],
   "source": [
    "stuff1 = set([1,2,3,4,1,2,3,4])\n",
    "stuff1    "
   ]
  },
  {
   "cell_type": "code",
   "execution_count": 61,
   "id": "1d36469d",
   "metadata": {},
   "outputs": [
    {
     "name": "stdout",
     "output_type": "stream",
     "text": [
      "{'l', 'o', 'h', 'e'}\n"
     ]
    }
   ],
   "source": [
    "letters = set(\"hello\")\n",
    "print(letters)         "
   ]
  },
  {
   "cell_type": "markdown",
   "id": "3cc47f9e",
   "metadata": {},
   "source": [
    "## **Accessing Elements**\n",
    "\n",
    "Sets are unordered, so you cannot use indexing.\n",
    "\n",
    "You must loop through to access elements."
   ]
  },
  {
   "cell_type": "code",
   "execution_count": 62,
   "id": "6216935c",
   "metadata": {},
   "outputs": [
    {
     "name": "stdout",
     "output_type": "stream",
     "text": [
      "{0, 1, 3, 4, 5, 6, 44}\n"
     ]
    }
   ],
   "source": [
    "print(stuff)"
   ]
  },
  {
   "cell_type": "code",
   "execution_count": 63,
   "id": "917d0fea",
   "metadata": {},
   "outputs": [
    {
     "name": "stdout",
     "output_type": "stream",
     "text": [
      "5 is present\n"
     ]
    }
   ],
   "source": [
    "# This will check whether the element in set or not\n",
    "\n",
    "if 5 in stuff:\n",
    "    print(\"5 is present\")\n",
    "else:\n",
    "    print(\"5 is not present\")\n"
   ]
  },
  {
   "cell_type": "markdown",
   "id": "aea5d633",
   "metadata": {},
   "source": [
    "You can’t access elements using indexes such as [0] or [5]."
   ]
  },
  {
   "cell_type": "code",
   "execution_count": 64,
   "id": "1adcd209",
   "metadata": {},
   "outputs": [
    {
     "ename": "TypeError",
     "evalue": "'set' object is not subscriptable",
     "output_type": "error",
     "traceback": [
      "\u001b[31m---------------------------------------------------------------------------\u001b[39m",
      "\u001b[31mTypeError\u001b[39m                                 Traceback (most recent call last)",
      "\u001b[36mCell\u001b[39m\u001b[36m \u001b[39m\u001b[32mIn[64]\u001b[39m\u001b[32m, line 1\u001b[39m\n\u001b[32m----> \u001b[39m\u001b[32m1\u001b[39m \u001b[38;5;28mprint\u001b[39m(\u001b[43mstuff\u001b[49m\u001b[43m[\u001b[49m\u001b[32;43m4\u001b[39;49m\u001b[43m]\u001b[49m)    \u001b[38;5;66;03m# this will raise an error\u001b[39;00m\n",
      "\u001b[31mTypeError\u001b[39m: 'set' object is not subscriptable"
     ]
    }
   ],
   "source": [
    "print(stuff[4])    # this will raise an error"
   ]
  },
  {
   "cell_type": "markdown",
   "id": "e453039e",
   "metadata": {},
   "source": [
    "To do this we have to convert set into list then we can access"
   ]
  },
  {
   "cell_type": "code",
   "execution_count": null,
   "id": "7044f991",
   "metadata": {},
   "outputs": [
    {
     "name": "stdout",
     "output_type": "stream",
     "text": [
      "{1, 2, 3, 4, 5, 6, 44}\n",
      "The element is accessesd i.e: 5\n"
     ]
    }
   ],
   "source": [
    "print(stuff)\n",
    "s_list = list(stuff)\n",
    "print(f\"The element is accessesd i.e: {(s_list[4])}\")"
   ]
  },
  {
   "cell_type": "markdown",
   "id": "18b91570",
   "metadata": {},
   "source": [
    "## **Modifying Sets (Adding & Removing)**\n",
    "Used in Data Manipulation"
   ]
  },
  {
   "cell_type": "code",
   "execution_count": 66,
   "id": "a3201cd5",
   "metadata": {},
   "outputs": [
    {
     "name": "stdout",
     "output_type": "stream",
     "text": [
      "{450, 100, 500, 775, 600}\n"
     ]
    }
   ],
   "source": [
    "data = {\n",
    "    100,500,600,450,775}\n",
    "\n",
    "\n",
    "print(data)\n"
   ]
  },
  {
   "cell_type": "markdown",
   "id": "ed218442",
   "metadata": {},
   "source": [
    "Add element 800"
   ]
  },
  {
   "cell_type": "code",
   "execution_count": 67,
   "id": "318bd5ed",
   "metadata": {},
   "outputs": [
    {
     "name": "stdout",
     "output_type": "stream",
     "text": [
      "{800, 450, 100, 500, 775, 600}\n"
     ]
    }
   ],
   "source": [
    "data.add(800)\n",
    "print(data)"
   ]
  },
  {
   "cell_type": "markdown",
   "id": "11ebdec1",
   "metadata": {},
   "source": [
    "If we want to add mulltiple elements "
   ]
  },
  {
   "cell_type": "code",
   "execution_count": 68,
   "id": "3fc6d907",
   "metadata": {},
   "outputs": [
    {
     "name": "stdout",
     "output_type": "stream",
     "text": [
      "{450, 5, 6, 775, 7, 600, 800, 100, 500}\n"
     ]
    }
   ],
   "source": [
    "data.update([5, 6, 7])\n",
    "print(data)\n"
   ]
  },
  {
   "cell_type": "markdown",
   "id": "6f7688a1",
   "metadata": {},
   "source": [
    "### **Removing Elements**\n",
    "\n",
    "By remove() method: Removes the element, but raises an error if element not found."
   ]
  },
  {
   "cell_type": "code",
   "execution_count": 69,
   "id": "94ceffe0",
   "metadata": {},
   "outputs": [],
   "source": [
    "data.remove(800)  \n",
    "# if you re-run it raise an error buz u allready del it from set"
   ]
  },
  {
   "cell_type": "markdown",
   "id": "5d368b3f",
   "metadata": {},
   "source": [
    "By discard() method: Doesn’t raise an error if the item is missing (safer)."
   ]
  },
  {
   "cell_type": "code",
   "execution_count": 70,
   "id": "faf384c7",
   "metadata": {},
   "outputs": [
    {
     "data": {
      "text/plain": [
       "{5, 6, 7, 100, 450, 600, 775}"
      ]
     },
     "execution_count": 70,
     "metadata": {},
     "output_type": "execute_result"
    }
   ],
   "source": [
    "data.discard(900)\n",
    "data.discard(500)\n",
    "data"
   ]
  },
  {
   "cell_type": "markdown",
   "id": "64a7c0ba",
   "metadata": {},
   "source": [
    "By pop() method: Removes and returns a random element, since sets are unordered."
   ]
  },
  {
   "cell_type": "code",
   "execution_count": 71,
   "id": "ee1f2d99",
   "metadata": {},
   "outputs": [
    {
     "name": "stdout",
     "output_type": "stream",
     "text": [
      "450\n",
      "{5, 6, 775, 7, 600, 100}\n"
     ]
    }
   ],
   "source": [
    "removed_pop = data.pop()\n",
    "print(removed_pop)\n",
    "\n",
    "# now the data\n",
    "print(data)"
   ]
  },
  {
   "cell_type": "markdown",
   "id": "d1ac5863",
   "metadata": {},
   "source": [
    "To clear the set "
   ]
  },
  {
   "cell_type": "code",
   "execution_count": 72,
   "id": "6374a3b2",
   "metadata": {},
   "outputs": [
    {
     "name": "stdout",
     "output_type": "stream",
     "text": [
      "set()\n"
     ]
    }
   ],
   "source": [
    "data.clear()\n",
    "print(data)"
   ]
  },
  {
   "cell_type": "markdown",
   "id": "1be00447",
   "metadata": {},
   "source": [
    "## **Set Operations (Mathematical Operations)**\n",
    "These are core set features — very useful in interviews & data processing."
   ]
  },
  {
   "cell_type": "code",
   "execution_count": 74,
   "id": "8dd3eb77",
   "metadata": {},
   "outputs": [],
   "source": [
    "A = {1, 2, 3, 4, 5}\n",
    "B = {4, 5, 6, 7, 8}"
   ]
  },
  {
   "cell_type": "markdown",
   "id": "a103bcc5",
   "metadata": {},
   "source": [
    "**Union (A ∪ B)**\n",
    "\n",
    "All unique elements from both sets."
   ]
  },
  {
   "cell_type": "code",
   "execution_count": 78,
   "id": "07c0b297",
   "metadata": {},
   "outputs": [
    {
     "name": "stdout",
     "output_type": "stream",
     "text": [
      "{1, 2, 3, 4, 5, 6, 7, 8}\n",
      "{1, 2, 3, 4, 5, 6, 7, 8}\n"
     ]
    }
   ],
   "source": [
    "print(A | B)\n",
    "\n",
    "# or\n",
    "\n",
    "print(A.union(B))"
   ]
  },
  {
   "cell_type": "markdown",
   "id": "e0cc9bbf",
   "metadata": {},
   "source": [
    "**Intersection (A ∩ B)**\n",
    "\n",
    "Common elements."
   ]
  },
  {
   "cell_type": "code",
   "execution_count": 79,
   "id": "c7658ecf",
   "metadata": {},
   "outputs": [
    {
     "name": "stdout",
     "output_type": "stream",
     "text": [
      "{4, 5}\n",
      "{4, 5}\n"
     ]
    }
   ],
   "source": [
    "print(A & B)\n",
    "\n",
    "# or\n",
    "\n",
    "print(A.intersection(B))\n"
   ]
  },
  {
   "cell_type": "markdown",
   "id": "5e127edb",
   "metadata": {},
   "source": [
    "A = {1, 2, 3, 4, 5}\n",
    "\n",
    "B = {4, 5, 6, 7, 8}"
   ]
  },
  {
   "cell_type": "markdown",
   "id": "e6e2ab01",
   "metadata": {},
   "source": [
    "**Difference (A - B)**\n",
    "\n",
    "Elements only in A, not in B."
   ]
  },
  {
   "cell_type": "code",
   "execution_count": 80,
   "id": "55aa3e62",
   "metadata": {},
   "outputs": [
    {
     "name": "stdout",
     "output_type": "stream",
     "text": [
      "{1, 2, 3}\n",
      "{1, 2, 3}\n"
     ]
    }
   ],
   "source": [
    "print(A - B)\n",
    "# or\n",
    "print(A.difference(B))"
   ]
  },
  {
   "cell_type": "markdown",
   "id": "e7a73d29",
   "metadata": {},
   "source": [
    "**Symmetric Difference (A △ B)**\n",
    "\n",
    "Elements in either set, but not in both."
   ]
  },
  {
   "cell_type": "code",
   "execution_count": 81,
   "id": "e8fbbc77",
   "metadata": {},
   "outputs": [
    {
     "name": "stdout",
     "output_type": "stream",
     "text": [
      "{1, 2, 3, 6, 7, 8}\n",
      "{1, 2, 3, 6, 7, 8}\n"
     ]
    }
   ],
   "source": [
    "print(A ^ B)\n",
    "\n",
    "# or\n",
    "print(A.symmetric_difference(B))\n"
   ]
  },
  {
   "cell_type": "markdown",
   "id": "bbc7a744",
   "metadata": {},
   "source": [
    "## **Frozen Sets**\n",
    "A frozenset is like a set, but immutable. You cannot add or remove elements."
   ]
  },
  {
   "cell_type": "code",
   "execution_count": 82,
   "id": "19643c32",
   "metadata": {},
   "outputs": [
    {
     "name": "stdout",
     "output_type": "stream",
     "text": [
      "frozenset({1, 2, 3})\n"
     ]
    }
   ],
   "source": [
    "fs = frozenset([1, 2, 3])\n",
    "print(fs)\n",
    "# fs.add(4)  -> Error: attribute doesn’t exist\n"
   ]
  },
  {
   "cell_type": "markdown",
   "id": "bcfab335",
   "metadata": {},
   "source": [
    "## **Set Comprehension**\n",
    "\n",
    "Like list comprehension but for sets"
   ]
  },
  {
   "cell_type": "code",
   "execution_count": 84,
   "id": "2af2a933",
   "metadata": {},
   "outputs": [
    {
     "name": "stdout",
     "output_type": "stream",
     "text": [
      "{0, 64, 4, 36, 16}\n"
     ]
    }
   ],
   "source": [
    "ss = {x * x for x in range(6)}  \n",
    "\n",
    "even_sq = {x*x for x in range(10) if x % 2 == 0}\n",
    "print(even_sq)"
   ]
  },
  {
   "cell_type": "markdown",
   "id": "b837c144",
   "metadata": {},
   "source": [
    "You can explore more set functions, operations, and detailed examples in the official Python documentation:\n",
    "\n",
    "🔗 [Python Set Documentation](https://python-reference.readthedocs.io/en/latest/docs/sets/?utm_source=chatgpt.com)"
   ]
  }
 ],
 "metadata": {
  "kernelspec": {
   "display_name": "Python 3",
   "language": "python",
   "name": "python3"
  },
  "language_info": {
   "codemirror_mode": {
    "name": "ipython",
    "version": 3
   },
   "file_extension": ".py",
   "mimetype": "text/x-python",
   "name": "python",
   "nbconvert_exporter": "python",
   "pygments_lexer": "ipython3",
   "version": "3.12.0"
  }
 },
 "nbformat": 4,
 "nbformat_minor": 5
}
