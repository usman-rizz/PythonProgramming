{
 "cells": [
  {
   "cell_type": "markdown",
   "id": "3cda09b9",
   "metadata": {},
   "source": [
    "<h1 style= \"background-color:#001f3f;\n",
    "           color:white;\n",
    "           border-radius:8px;\n",
    "           font-family:'Times New Roman', Times, serif;\n",
    "           padding:20px;\n",
    "           display:inline-block; \">        \n",
    "OPERATORS\n",
    "\n",
    "</h1>\n"
   ]
  },
  {
   "cell_type": "markdown",
   "id": "c70e1d7d",
   "metadata": {
    "vscode": {
     "languageId": "raw"
    }
   },
   "source": [
    "Operators are symbols or keywords that perform operations on variables and values \n",
    "(like addition, comparison, logic, etc.).\n",
    "\n",
    "There are 7 types of operators in Python, below is a list of them:"
   ]
  },
  {
   "cell_type": "markdown",
   "id": "478ea301",
   "metadata": {},
   "source": [
    "\n",
    "\n",
    "<p align=\"center\">\n",
    "  <img src=\"images/pic2.jpg\" alt=\"screenshot\" width=\"500\">\n",
    "</p>"
   ]
  },
  {
   "cell_type": "markdown",
   "id": "c1bc89d7",
   "metadata": {},
   "source": [
    "### **Operator Precedence**"
   ]
  },
  {
   "cell_type": "markdown",
   "id": "809cd0e0",
   "metadata": {
    "vscode": {
     "languageId": "raw"
    }
   },
   "source": [
    "Multiplication (*) and Division (/) have a higher precedence than Addition (+) and Subtraction (-).\n",
    "\n",
    "Just in algebra, parenthesis are used when we want to explicitly specify the order of operations.\n",
    "\n",
    "If all else fails, Python evaluates expressions from left to right.\n",
    "\n",
    "`### **`Operator Precedence`**`\n",
    "\n",
    "The order of precedence is as follows (from highest to lowest):\n",
    "1. Parentheses ()\n",
    "2. Exponentiation **\n",
    "3. Multiplication , Division , Floor Division /, and Modulus %\n",
    "4. Addition and Subtraction\n",
    "5. Bitwise Shift Operators `<<` and `>>`\n",
    "6. Bitwise AND `&`\n",
    "7. Bitwise XOR `^` and Bitwise OR `|`\n",
    "8. Comparison Operators `==`, `!=`, `>`, `<`, `>=`, `<=`\n",
    "9. Assignment Operators `=`, `+=`, `-=`, `*=`, `/=`, `//=`, `%=`, `**=`\n",
    "10. Identity Operators `is`, `is not`"
   ]
  },
  {
   "cell_type": "markdown",
   "id": "e6ad648c",
   "metadata": {},
   "source": [
    "\n",
    "**Arithmetic Operators**: Used to perform basic mathematical calculations.\n",
    "\n",
    "Operators: `+ - * / % ** //`"
   ]
  },
  {
   "cell_type": "code",
   "execution_count": 1,
   "id": "d2317fa8",
   "metadata": {},
   "outputs": [
    {
     "name": "stdout",
     "output_type": "stream",
     "text": [
      "50\n"
     ]
    }
   ],
   "source": [
    "num1 = 10\n",
    "num2 = 20\n",
    "result = num1 + num2 * 2\n",
    "print(result)  "
   ]
  },
  {
   "cell_type": "code",
   "execution_count": 1,
   "id": "f60e178b",
   "metadata": {},
   "outputs": [
    {
     "name": "stdout",
     "output_type": "stream",
     "text": [
      "10 5\n"
     ]
    }
   ],
   "source": [
    "# Q: How do you swap two numbers without using a third variable?\n",
    "\n",
    "a, b = 5, 10\n",
    "a = a + b\n",
    "b = a - b\n",
    "a = a - b\n",
    "print(a, b)"
   ]
  },
  {
   "cell_type": "markdown",
   "id": "4abe0c20",
   "metadata": {},
   "source": [
    "**Comparison (Relational) Operators:** Used to compare two values and return True or False.\n",
    "\n",
    "Operators: `== != > < >= <=`"
   ]
  },
  {
   "cell_type": "code",
   "execution_count": null,
   "id": "304bc762",
   "metadata": {},
   "outputs": [
    {
     "name": "stdout",
     "output_type": "stream",
     "text": [
      "False\n",
      "True\n",
      "False\n",
      "True\n"
     ]
    }
   ],
   "source": [
    "x, y = 10, 20\n",
    "\n",
    "print(x == y)  \n",
    "print(x != y) \n",
    "print(x > y)   \n",
    "print(x <= y) "
   ]
  },
  {
   "cell_type": "markdown",
   "id": "2516faf7",
   "metadata": {},
   "source": [
    "**Logical Operators:** Combine multiple conditions and return True/False.\n",
    "\n",
    "Operators: `and (&) or not ()`\n"
   ]
  },
  {
   "cell_type": "code",
   "execution_count": 3,
   "id": "bed61a05",
   "metadata": {},
   "outputs": [
    {
     "name": "stdout",
     "output_type": "stream",
     "text": [
      "True\n",
      "False\n",
      "False\n"
     ]
    }
   ],
   "source": [
    "x = 15\n",
    "print(x > 10 and x < 20)  \n",
    "print(x > 20 or x < 10)    \n",
    "print(not(x > 10))  "
   ]
  },
  {
   "cell_type": "markdown",
   "id": "cbc1327f",
   "metadata": {},
   "source": [
    "**Assignment Operators:** Used to assign values and update them in shorthand form.\n",
    "\n",
    "Operators: `= += -= *= /= //= %= **=`\n"
   ]
  },
  {
   "cell_type": "code",
   "execution_count": 4,
   "id": "644054c6",
   "metadata": {},
   "outputs": [
    {
     "name": "stdout",
     "output_type": "stream",
     "text": [
      "30\n"
     ]
    }
   ],
   "source": [
    "x = 10\n",
    "x += 5          # x = x + 5\n",
    "x *= 2          # x = 15 * 2\n",
    "print(x) "
   ]
  },
  {
   "cell_type": "markdown",
   "id": "9bde9bf1",
   "metadata": {},
   "source": [
    "**Bitwise Operators**: Work on numbers at the binary level (0s and 1s).\n",
    "\n",
    "Operators: `& | ^ ~ << >>`"
   ]
  },
  {
   "cell_type": "code",
   "execution_count": 5,
   "id": "35437ffa",
   "metadata": {},
   "outputs": [
    {
     "name": "stdout",
     "output_type": "stream",
     "text": [
      "2\n",
      "7\n",
      "5\n",
      "-7\n",
      "12\n",
      "3\n"
     ]
    }
   ],
   "source": [
    "a, b = 6, 3                 # (6 = 110, 3 = 011 in binary)\n",
    "print(a & b)                # 2 (010)\n",
    "print(a | b)                # 7 (111)\n",
    "print(a ^ b)                # 5 (101)\n",
    "print(~a)                   # -7 (inverts bits)\n",
    "print(a << 1)               # 12 (shift left by 1)\n",
    "print(a >> 1)               # 3  (shift right by 1)\n"
   ]
  },
  {
   "cell_type": "code",
   "execution_count": null,
   "id": "56e038a4",
   "metadata": {},
   "outputs": [
    {
     "data": {
      "text/plain": [
       "-12328"
      ]
     },
     "execution_count": 1,
     "metadata": {},
     "output_type": "execute_result"
    }
   ],
   "source": [
    "# eg\n",
    "# operator precedence\n",
    "numb = 67\n",
    "numb2 = 92\n",
    "\n",
    "cal = numb + numb -2 * (numb * numb2 + numb)\n",
    "cal\n"
   ]
  }
 ],
 "metadata": {
  "kernelspec": {
   "display_name": "Python 3",
   "language": "python",
   "name": "python3"
  },
  "language_info": {
   "codemirror_mode": {
    "name": "ipython",
    "version": 3
   },
   "file_extension": ".py",
   "mimetype": "text/x-python",
   "name": "python",
   "nbconvert_exporter": "python",
   "pygments_lexer": "ipython3",
   "version": "3.12.0"
  }
 },
 "nbformat": 4,
 "nbformat_minor": 5
}
