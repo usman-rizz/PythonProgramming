{
 "cells": [
  {
   "cell_type": "markdown",
   "id": "882857cb",
   "metadata": {},
   "source": [
    "\n",
    "<h1 align=\"center\" style=\"background-color:#001f3f;\n",
    "           color:white;\n",
    "           border-radius:8px;\n",
    "           font-family:'Times New Roman', Times, serif;\n",
    "           padding:20px;\n",
    "           display:inline-block;\">\n",
    "   FILING\n",
    "</h1>\n",
    "\n",
    "<p> File handling in Python allows us to `create, read, write, and manipulate files`.\\\n",
    "\n",
    "It is used to store `data permanently`, beyond the program’s execution.<p>\n",
    "\n",
    "### <P> <b>What are File Modes ?</b>\n",
    "\n",
    "`File modes` in Python define how a file will be `opened (read, write, append, binary, etc.).`\n",
    "They tell Python what kind of `operations` are allowed on a file.<P>\n"
   ]
  },
  {
   "cell_type": "markdown",
   "id": "8135eebd",
   "metadata": {},
   "source": [
    "<p align=\"center\">\n",
    "  <img src=\"images/pic3.png\" alt=\"screenshot\" width=\"500\">\n",
    "</p>\n",
    "\n",
    "\n"
   ]
  },
  {
   "cell_type": "code",
   "execution_count": null,
   "id": "9d88e0b0",
   "metadata": {},
   "outputs": [],
   "source": [
    "# Syntax\n",
    "\n",
    "# We open files using the open() function\n",
    "\n",
    "# file = open(\"File_name.extension\", \"mode\")\n",
    "\n"
   ]
  },
  {
   "cell_type": "markdown",
   "id": "24bde466",
   "metadata": {},
   "source": [
    "### **File Handling Methods**\n",
    "\n",
    "<p>Python provides a variety of methods to handle files, allowing you to perform operations like creating, reading, writing, and closing files. Below are some commonly used file methods:\n",
    "\n",
    "- read(size)\n",
    "- close()\n",
    "- readline()\n",
    "- readlines()\n",
    "- write(string)\n",
    "- writelines(list_of_strings)\n",
    "- seek(offset)\n",
    "- tell()\\\n",
    "and many more...\\\n",
    "let discuss one by one..\n",
    "<p>"
   ]
  },
  {
   "cell_type": "markdown",
   "id": "5907e406",
   "metadata": {},
   "source": [
    "### **Writing the file**"
   ]
  },
  {
   "cell_type": "code",
   "execution_count": null,
   "id": "0ffd0afa",
   "metadata": {},
   "outputs": [],
   "source": [
    "\n",
    "file = open(\"stuff.txt\", \"w\")   # this will create the file \n",
    "\n",
    "# now write some thing in file\n",
    "file.write(\"Hello this file contains stuff\\n and this is not usefull for analysis... \")\n",
    "file.write(\"Are u sure ?\")     # instead of writing in new line, it will continue in same line\n",
    "\n",
    "file.close()                   # make sure ti close the file"
   ]
  },
  {
   "cell_type": "markdown",
   "id": "438e261f",
   "metadata": {},
   "source": [
    "**What does `write()` return in Python?**\\\n",
    "It returns the number of characters written, not the content itself."
   ]
  },
  {
   "cell_type": "code",
   "execution_count": 60,
   "id": "1251d6c9",
   "metadata": {},
   "outputs": [
    {
     "name": "stdout",
     "output_type": "stream",
     "text": [
      "5\n"
     ]
    }
   ],
   "source": [
    "file = open(\"stuff.txt\", \"w\") \n",
    "print(file.write(\"hello\"))"
   ]
  },
  {
   "cell_type": "markdown",
   "id": "038f6826",
   "metadata": {},
   "source": [
    "### **Read the file you made**"
   ]
  },
  {
   "cell_type": "code",
   "execution_count": 22,
   "id": "2b67e6ed",
   "metadata": {},
   "outputs": [
    {
     "name": "stdout",
     "output_type": "stream",
     "text": [
      "Hello this file contains stuff\n",
      " and this is not usefull for analysis... Are u sure ?\n"
     ]
    }
   ],
   "source": [
    "file = open(\"stuff.txt\", \"r\")\n",
    "\n",
    "content = file.read()   \n",
    "print(content)\n",
    "\n",
    "file.close()"
   ]
  },
  {
   "cell_type": "code",
   "execution_count": 23,
   "id": "6a9efaeb",
   "metadata": {},
   "outputs": [
    {
     "name": "stdout",
     "output_type": "stream",
     "text": [
      "Hello this file contains stuff\n",
      " and this is not usefull for analysis... Are u sure ?\n"
     ]
    }
   ],
   "source": [
    "# another way \n",
    "file = open(\"stuff.txt\", \"r\")\n",
    "# file.read()\n",
    "\n",
    "# Why \\n is not working ? \n",
    "\n",
    "# print(content) interprets \\n as a new line.\n",
    "\n",
    "# Just calling file.read() doesn’t print anything, so you don’t see the newlines properly.\n",
    "\n",
    "print(file.read())            # uncomment file.read() then run \n"
   ]
  },
  {
   "cell_type": "markdown",
   "id": "ee2fffe5",
   "metadata": {},
   "source": [
    "> <p> Best Practice, use  <b> with</b> Statement\n",
    "\n",
    "> Using `with` automatically closes the file (recommended in industry)\n",
    "\n",
    "<p>"
   ]
  },
  {
   "cell_type": "markdown",
   "id": "ae4a2b88",
   "metadata": {},
   "source": [
    "### **Method: writelines()**"
   ]
  },
  {
   "cell_type": "code",
   "execution_count": 30,
   "id": "b96fcd3b",
   "metadata": {},
   "outputs": [],
   "source": [
    "# Writes multiple strings at once from an iterable (commonly a list or tuple).\n",
    "# Does not add newline (\\n) automatically – you must include it in each string.\n",
    "\n",
    "with open(\"stuff.txt\",\"w\") as f:\n",
    "    f.writelines([\"hello \", \"world\\n\"])       # it overwrites the file\n"
   ]
  },
  {
   "cell_type": "code",
   "execution_count": 31,
   "id": "1c6c4657",
   "metadata": {},
   "outputs": [
    {
     "name": "stdout",
     "output_type": "stream",
     "text": [
      "hello world\n"
     ]
    }
   ],
   "source": [
    "with open(\"stuff.txt\", \"r\") as f:\n",
    "    for line in f:\n",
    "        print(line.strip())          # strip function will remove extra space if contains in a file"
   ]
  },
  {
   "cell_type": "markdown",
   "id": "66a328d0",
   "metadata": {},
   "source": [
    "`write()` is for `single strings` , `writelines()` is for writing `multiple strings at once`.\\\n",
    "writelines() improves performance when dealing with large text data but requires you to add `\\n` manually."
   ]
  },
  {
   "cell_type": "code",
   "execution_count": 32,
   "id": "51edaa0e",
   "metadata": {},
   "outputs": [],
   "source": [
    "# if we want to write new line without over write\n",
    "\n",
    "with open(\"stuff.txt\", \"a\") as f:          # a is the mode which means append\n",
    "    f.writelines([\"\\nThis line is to be appended in the same file\\n\",\"Another line \"])\n",
    "\n",
    "# running multiple times it will append multiple times so dont worry why duplicate lines are comming"
   ]
  },
  {
   "cell_type": "markdown",
   "id": "7c3e5c9f",
   "metadata": {},
   "source": [
    "### **Method: read(size)**"
   ]
  },
  {
   "cell_type": "code",
   "execution_count": 37,
   "id": "d421de52",
   "metadata": {},
   "outputs": [
    {
     "name": "stdout",
     "output_type": "stream",
     "text": [
      "hello \n"
     ]
    }
   ],
   "source": [
    "# Reads the whole file content. If size is given, it reads up to that many characters\n",
    "with open(\"stuff.txt\",\"r\") as f:\n",
    "    print(f.read(6))\n"
   ]
  },
  {
   "cell_type": "markdown",
   "id": "6e14188a",
   "metadata": {},
   "source": [
    "### **Method: readline()**"
   ]
  },
  {
   "cell_type": "code",
   "execution_count": null,
   "id": "e1b2d897",
   "metadata": {},
   "outputs": [
    {
     "name": "stdout",
     "output_type": "stream",
     "text": [
      "hello world\n",
      "\n"
     ]
    }
   ],
   "source": [
    "with open(\"stuff.txt\",\"r\") as f:\n",
    "    print(f.readline())\n",
    "\n",
    "# Reads the next line from the file (including \\n)."
   ]
  },
  {
   "cell_type": "markdown",
   "id": "719f2001",
   "metadata": {},
   "source": [
    "### **Method: readlines()**"
   ]
  },
  {
   "cell_type": "code",
   "execution_count": 42,
   "id": "a000c951",
   "metadata": {},
   "outputs": [
    {
     "name": "stdout",
     "output_type": "stream",
     "text": [
      "['hello world\\n', '\\n', 'This line is to be appended in the same file\\n', 'Another line ']\n"
     ]
    }
   ],
   "source": [
    "with open(\"stuff.txt\",\"r\") as f:\n",
    "    print(f.readlines())\n",
    "\n",
    "# Reads all lines into a list, each line as one item.    "
   ]
  },
  {
   "cell_type": "markdown",
   "id": "247ce69b",
   "metadata": {},
   "source": [
    "### **Method: seek(offset)**"
   ]
  },
  {
   "cell_type": "markdown",
   "id": "a6f7662b",
   "metadata": {},
   "source": [
    "\n",
    "The seek(offset) method moves the cursor to a given position (offset). For example, seek(0) resets the cursor to the start"
   ]
  },
  {
   "cell_type": "code",
   "execution_count": 51,
   "id": "6775c3ab",
   "metadata": {},
   "outputs": [
    {
     "name": "stdout",
     "output_type": "stream",
     "text": [
      "5\n",
      "Pointer moved to: 5\n",
      "\n",
      "5\n",
      " world\n",
      "\n"
     ]
    }
   ],
   "source": [
    "with open(\"stuff.txt\" , \"r\") as f:\n",
    "    print(f.seek(5))\n",
    "# in easy\n",
    "\n",
    "with open(\"stuff.txt\", \"r\") as f:\n",
    "    pos = f.seek(5)\n",
    "    print(\"Pointer moved to:\", pos)\n",
    "print()\n",
    "# this seek with only move the coursor only, not print the file content\n",
    "\n",
    "# if we want to read the file content at position 5\n",
    "with open(\"stuff.txt\", \"r\") as f:\n",
    "    print(f.seek(5))\n",
    "    print(f.readline())"
   ]
  },
  {
   "cell_type": "markdown",
   "id": "dc3e01e1",
   "metadata": {},
   "source": [
    "### **Method: tell()**\n",
    "The `tell() method` returns the file pointer’s `current position`, useful for `debugging` and random file access."
   ]
  },
  {
   "cell_type": "code",
   "execution_count": null,
   "id": "ae631ec6",
   "metadata": {},
   "outputs": [
    {
     "name": "stdout",
     "output_type": "stream",
     "text": [
      "hello worl\n",
      "Now the cursur is at:  10\n"
     ]
    }
   ],
   "source": [
    "with open(\"stuff.txt\",\"r\") as f:\n",
    "    print(f.read(10))\n",
    "    print(\"Now the cursur is at: \",f.tell())\n",
    "    "
   ]
  },
  {
   "cell_type": "markdown",
   "id": "cba6a420",
   "metadata": {},
   "source": [
    "### **Method: flush()**\n",
    "\n",
    "clears the `internal buffer` and forces all data to be written to `disk` immediately.\\\n",
    "\n",
    "**What is a Buffer?**\n",
    "\n",
    "A `buffer` is a `temporary memory` area where data is stored before it is sent to its final destination (like a file, screen, or network)."
   ]
  },
  {
   "cell_type": "code",
   "execution_count": 55,
   "id": "36565283",
   "metadata": {},
   "outputs": [],
   "source": [
    "with open(\"stuff.txt\", \"w\") as f:\n",
    "    f.write(\"Important Log\\n\")\n",
    "    f.flush()   \n",
    "\n",
    "# this will erase your old content buz of mode\n",
    "\n",
    "# if you want old content too use append \"a\" mode,\n",
    "\n",
    "with open(\"stuff.txt\", \"a\") as f:\n",
    "    f.write(\"Adding some new content\")\n",
    "    f.write(\"Important Log\\n\")\n",
    "    f.flush()   "
   ]
  }
 ],
 "metadata": {
  "kernelspec": {
   "display_name": "Python 3",
   "language": "python",
   "name": "python3"
  },
  "language_info": {
   "codemirror_mode": {
    "name": "ipython",
    "version": 3
   },
   "file_extension": ".py",
   "mimetype": "text/x-python",
   "name": "python",
   "nbconvert_exporter": "python",
   "pygments_lexer": "ipython3",
   "version": "3.12.0"
  }
 },
 "nbformat": 4,
 "nbformat_minor": 5
}
