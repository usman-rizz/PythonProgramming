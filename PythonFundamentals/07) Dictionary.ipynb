{
 "cells": [
  {
   "cell_type": "markdown",
   "id": "47958823",
   "metadata": {},
   "source": [
    "\n",
    "<h1 align=\"center\" style=\"background-color:#001f3f;\n",
    "           color:white;\n",
    "           border-radius:8px;\n",
    "           font-family:'Times New Roman', Times, serif;\n",
    "           padding:20px;\n",
    "           display:inline-block;\">\n",
    "    DICTIONARY\n",
    "</h1>\n",
    "\n",
    "A dictionary in Python is a built-in data type that stores data in the form of `key-value pairs`. Each key in a dictionary must be `unique` and `immutable`, cant be changed, (like strings, numbers, or tuples), while the values can be of any `data type` (string, list, dict, etc.).\n",
    "\n",
    "Dictionaries are also known as `maps` or `hash maps` in other programming languages.\n",
    "\n",
    "You can think of a dictionary as a `real dictionary in English`:\n",
    "\n",
    "The `word` is the `key`\n",
    "\n",
    "The `definition` is the `value`.\n",
    "\n",
    "**NOTE: A dictionary key can only hold one value.**"
   ]
  },
  {
   "cell_type": "code",
   "execution_count": 94,
   "id": "c4e4851b",
   "metadata": {},
   "outputs": [],
   "source": [
    "# Syntax \n",
    "\n",
    "# my_dict = {\n",
    "\n",
    "#     key: value\n",
    "\n",
    "# }\n"
   ]
  },
  {
   "cell_type": "code",
   "execution_count": 95,
   "id": "103e1fa0",
   "metadata": {},
   "outputs": [],
   "source": [
    "my_dict = {\n",
    "\n",
    "    \"name\": \"Usman\",\n",
    "    \"age\": 22,\n",
    "    \"skills\": [\"Python\", \"SQL\", \"ML\"]\n",
    "\n",
    "}\n",
    "# here name is ey and value is usman"
   ]
  },
  {
   "cell_type": "markdown",
   "id": "7e90e81c",
   "metadata": {},
   "source": [
    "<h1 align=\"center\" style=\"background-color:#001f3f;\n",
    "           color:white;\n",
    "           border-radius:8px;\n",
    "           font-family:'Times New Roman', Times, serif;\n",
    "           padding:20px;\n",
    "           display:inline-block;\">\n",
    "   Dictionary Operations\n",
    "</h1>\n"
   ]
  },
  {
   "cell_type": "markdown",
   "id": "04fd7401",
   "metadata": {},
   "source": [
    "### **Creating a Dictionary**"
   ]
  },
  {
   "cell_type": "code",
   "execution_count": 96,
   "id": "34c09f37",
   "metadata": {},
   "outputs": [
    {
     "name": "stdout",
     "output_type": "stream",
     "text": [
      "This is the Dictionary: {'ID': 27557, 'Name': 'Usman', 'Qualification': 'BS-Computer Science'}\n"
     ]
    }
   ],
   "source": [
    "employees = {\n",
    "\n",
    "    \"ID\" : 27557,\n",
    "    \"Name\": \"Usman\",\n",
    "    \"Qualification\" : \"BS-Computer Science\",\n",
    "\n",
    "}\n",
    "print(f\"This is the Dictionary: {employees}\")"
   ]
  },
  {
   "cell_type": "markdown",
   "id": "eeccf379",
   "metadata": {},
   "source": [
    "\n",
    "### **Accessing Values**"
   ]
  },
  {
   "cell_type": "code",
   "execution_count": 97,
   "id": "5416d0c2",
   "metadata": {},
   "outputs": [
    {
     "name": "stdout",
     "output_type": "stream",
     "text": [
      "27557\n"
     ]
    }
   ],
   "source": [
    "print(employees[\"ID\"])\n",
    "employees.get(\"id\")"
   ]
  },
  {
   "cell_type": "markdown",
   "id": "944a496d",
   "metadata": {},
   "source": [
    "### **Adding or Updating Items**\n"
   ]
  },
  {
   "cell_type": "code",
   "execution_count": 98,
   "id": "377cf367",
   "metadata": {},
   "outputs": [
    {
     "data": {
      "text/plain": [
       "{'ID': 26543,\n",
       " 'Name': 'Usman',\n",
       " 'Qualification': 'BS-Computer Science',\n",
       " 'Institute': 'Iqra University'}"
      ]
     },
     "execution_count": 98,
     "metadata": {},
     "output_type": "execute_result"
    }
   ],
   "source": [
    "# Adding a key-value pair\n",
    "\n",
    "# If the key does not exist → it will be added.\n",
    "employees[\"Institute\"] = \"Iqra University\"\n",
    "\n",
    "\n",
    "# If the key already exists → its old value will be overwritten (updated).\n",
    "employees[\"ID\"] = 26543\n",
    "\n",
    "\n",
    "employees"
   ]
  },
  {
   "cell_type": "markdown",
   "id": "67ca0c3c",
   "metadata": {},
   "source": [
    "**List into Dict**"
   ]
  },
  {
   "cell_type": "code",
   "execution_count": 99,
   "id": "c5dcf597",
   "metadata": {},
   "outputs": [],
   "source": [
    "# if we want to add Values in key, then we have to create a list in dictionary and append it into list\n",
    "\n",
    "if not isinstance(employees[\"Name\"], list):\n",
    "    employees[\"Name\"] = [employees[\"Name\"]]   \n",
    "\n",
    "# now append Names into list\n",
    "employees[\"Name\"].append(\"John\")     "
   ]
  },
  {
   "cell_type": "code",
   "execution_count": 100,
   "id": "bf9078c0",
   "metadata": {},
   "outputs": [
    {
     "data": {
      "text/plain": [
       "{'ID': 26543,\n",
       " 'Name': ['Usman', 'John'],\n",
       " 'Qualification': 'BS-Computer Science',\n",
       " 'Institute': 'Iqra University'}"
      ]
     },
     "execution_count": 100,
     "metadata": {},
     "output_type": "execute_result"
    }
   ],
   "source": [
    "employees"
   ]
  },
  {
   "cell_type": "markdown",
   "id": "b9e3ffd5",
   "metadata": {},
   "source": [
    "### **Removing Items from Dictionary**"
   ]
  },
  {
   "cell_type": "code",
   "execution_count": 101,
   "id": "3405adf1",
   "metadata": {},
   "outputs": [],
   "source": [
    "employees[\"Name\"].remove(\"John\")    # from list\n",
    "\n",
    "# if u re-run this cell it will give u error buz John is removed from the list"
   ]
  },
  {
   "cell_type": "code",
   "execution_count": 103,
   "id": "173ec9af",
   "metadata": {},
   "outputs": [
    {
     "data": {
      "text/plain": [
       "{'ID': 26543,\n",
       " 'Name': ['Usman'],\n",
       " 'Qualification': 'BS-Computer Science',\n",
       " 'Institute': 'Iqra University'}"
      ]
     },
     "execution_count": 103,
     "metadata": {},
     "output_type": "execute_result"
    }
   ],
   "source": [
    "employees"
   ]
  },
  {
   "cell_type": "code",
   "execution_count": null,
   "id": "ae9862fd",
   "metadata": {},
   "outputs": [
    {
     "name": "stdout",
     "output_type": "stream",
     "text": [
      "After del: {'Name': ['Usman'], 'Qualification': 'BS-Computer Science', 'Institute': 'Iqra University'}\n"
     ]
    }
   ],
   "source": [
    "del employees[\"ID\"]\n",
    "print(\"After del:\", employees) "
   ]
  },
  {
   "cell_type": "markdown",
   "id": "1802ca4d",
   "metadata": {},
   "source": [
    "<h1 align=\"center\" style=\"background-color:#001f3f;\n",
    "           color:white;\n",
    "           border-radius:8px;\n",
    "           font-family:'Times New Roman', Times, serif;\n",
    "           padding:20px;\n",
    "           display:inline-block;\"> \n",
    "Nested Dictionary\n",
    "</h1>"
   ]
  },
  {
   "cell_type": "code",
   "execution_count": 27,
   "id": "ace62a22",
   "metadata": {},
   "outputs": [
    {
     "name": "stdout",
     "output_type": "stream",
     "text": [
      "Ali\n",
      "20\n"
     ]
    }
   ],
   "source": [
    "# makiing a dictionary\n",
    "\n",
    "employees = {\n",
    "\n",
    "    \"emp1\": {\"name\": \"Ali\", \"age\": 20, \"dept\": \"HR\"},\n",
    "    \"emp2\": {\"name\": \"Usman\", \"age\": 22, \"dept\": \"IT\"}\n",
    "\n",
    "}\n",
    "\n",
    "for key in [\"name\",\"age\"]:\n",
    "    print(employees[\"emp1\"][key])\n"
   ]
  },
  {
   "cell_type": "markdown",
   "id": "c65de5d8",
   "metadata": {},
   "source": [
    "**We can also access multiple values by Dictionary comprehension**\n"
   ]
  },
  {
   "cell_type": "code",
   "execution_count": 28,
   "id": "cc6ddf68",
   "metadata": {},
   "outputs": [
    {
     "name": "stdout",
     "output_type": "stream",
     "text": [
      "{'name': 'Ali', 'age': 20}\n"
     ]
    }
   ],
   "source": [
    "info = {key: employees[\"emp1\"][key] for key in [\"name\", \"age\"]}\n",
    "print(info)              # this is more professional way"
   ]
  },
  {
   "cell_type": "markdown",
   "id": "576b6cc4",
   "metadata": {},
   "source": [
    "**if we want to add new employee**"
   ]
  },
  {
   "cell_type": "code",
   "execution_count": 29,
   "id": "a9117391",
   "metadata": {},
   "outputs": [
    {
     "name": "stdout",
     "output_type": "stream",
     "text": [
      "{'emp1': {'name': 'Ali', 'age': 20, 'dept': 'HR'}, 'emp2': {'name': 'Usman', 'age': 22, 'dept': 'IT'}, 'emp3': {'name': 'Zain', 'age': 28, 'dept': 'Marketing'}}\n"
     ]
    }
   ],
   "source": [
    "employees[\"emp3\"] = {\"name\": \"Zain\", \"age\": 28, \"dept\": \"Marketing\"}\n",
    "print(employees)\n"
   ]
  },
  {
   "cell_type": "code",
   "execution_count": 30,
   "id": "30620ef3",
   "metadata": {},
   "outputs": [
    {
     "data": {
      "text/plain": [
       "{'emp1': {'name': 'Ali', 'age': 20, 'dept': 'HR'},\n",
       " 'emp2': {'name': 'Usman', 'age': 22, 'dept': 'IT'},\n",
       " 'emp3': {'name': 'Zain', 'age': 28, 'dept': 'Marketing'}}"
      ]
     },
     "execution_count": 30,
     "metadata": {},
     "output_type": "execute_result"
    }
   ],
   "source": [
    "employees"
   ]
  },
  {
   "cell_type": "markdown",
   "id": "7d023f18",
   "metadata": {},
   "source": [
    "**Updating Inner Dictionary**"
   ]
  },
  {
   "cell_type": "code",
   "execution_count": 31,
   "id": "940b5022",
   "metadata": {},
   "outputs": [
    {
     "name": "stdout",
     "output_type": "stream",
     "text": [
      "Dictionary is Updated: {'emp1': {'name': 'Ali', 'age': 21, 'dept': 'HR'}, 'emp2': {'name': 'Usman', 'age': 22, 'dept': 'DevOps'}, 'emp3': {'name': 'Zain', 'age': 28, 'dept': 'Marketing'}}\n"
     ]
    }
   ],
   "source": [
    "employees[\"emp1\"][\"age\"] = 21\n",
    "employees[\"emp2\"][\"dept\"] = \"DevOps\"\n",
    "print(f\"Dictionary is Updated: {employees}\")"
   ]
  },
  {
   "cell_type": "markdown",
   "id": "ce05a8ee",
   "metadata": {},
   "source": [
    "**List into Nested Dictionary**"
   ]
  },
  {
   "cell_type": "code",
   "execution_count": 32,
   "id": "a29ba8db",
   "metadata": {},
   "outputs": [
    {
     "data": {
      "text/plain": [
       "{'emp1': {'name': 'Ali', 'age': 21, 'dept': 'HR'},\n",
       " 'emp2': {'name': 'Usman', 'age': 22, 'dept': 'DevOps'},\n",
       " 'emp3': {'name': 'Zain', 'age': 28, 'dept': 'Marketing'}}"
      ]
     },
     "execution_count": 32,
     "metadata": {},
     "output_type": "execute_result"
    }
   ],
   "source": [
    "employees"
   ]
  },
  {
   "cell_type": "code",
   "execution_count": null,
   "id": "e8f53343",
   "metadata": {},
   "outputs": [
    {
     "data": {
      "text/plain": [
       "{'emp1': {'name': ['Ali'], 'age': 21, 'dept': 'HR'},\n",
       " 'emp2': {'name': 'Usman', 'age': 22, 'dept': 'DevOps'},\n",
       " 'emp3': {'name': 'Zain', 'age': 28, 'dept': 'Marketing'}}"
      ]
     },
     "execution_count": 33,
     "metadata": {},
     "output_type": "execute_result"
    }
   ],
   "source": [
    "# converting name into a list\n",
    "employees[\"emp1\"][\"name\"] = [employees[\"emp1\"][\"name\"]]\n",
    "employees"
   ]
  },
  {
   "cell_type": "code",
   "execution_count": 35,
   "id": "9b7eeb0c",
   "metadata": {},
   "outputs": [
    {
     "data": {
      "text/plain": [
       "{'emp1': {'name': ['Ali',\n",
       "   'Shahrooz',\n",
       "   'Shehzar',\n",
       "   'Ahmed',\n",
       "   'Shahrooz',\n",
       "   'Shehzar',\n",
       "   'Ahmed'],\n",
       "  'age': 21,\n",
       "  'dept': 'HR'},\n",
       " 'emp2': {'name': 'Usman', 'age': 22, 'dept': 'DevOps'},\n",
       " 'emp3': {'name': 'Zain', 'age': 28, 'dept': 'Marketing'}}"
      ]
     },
     "execution_count": 35,
     "metadata": {},
     "output_type": "execute_result"
    }
   ],
   "source": [
    "# Append more names\n",
    "\n",
    "employees[\"emp1\"][\"name\"].extend([\"Shahrooz\", \"Shehzar\", \"Ahmed\"])\n",
    "employees"
   ]
  },
  {
   "cell_type": "markdown",
   "id": "7175e687",
   "metadata": {},
   "source": [
    "**How is a dictionary different from a list?**\n",
    "\n",
    "List stores elements by index, dictionary stores elements by key. Dictionaries are faster for lookups."
   ]
  }
 ],
 "metadata": {
  "kernelspec": {
   "display_name": "Python 3",
   "language": "python",
   "name": "python3"
  },
  "language_info": {
   "codemirror_mode": {
    "name": "ipython",
    "version": 3
   },
   "file_extension": ".py",
   "mimetype": "text/x-python",
   "name": "python",
   "nbconvert_exporter": "python",
   "pygments_lexer": "ipython3",
   "version": "3.12.0"
  }
 },
 "nbformat": 4,
 "nbformat_minor": 5
}
