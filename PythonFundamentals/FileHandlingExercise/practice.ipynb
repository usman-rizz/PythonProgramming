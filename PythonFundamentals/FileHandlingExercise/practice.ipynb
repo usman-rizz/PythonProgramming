{
 "cells": [
  {
   "cell_type": "markdown",
   "id": "3cb87f94",
   "metadata": {},
   "source": [
    "**Write a program to create a file and write \"Hello, Python!\" into it. Then read it back and display the content.**"
   ]
  },
  {
   "cell_type": "code",
   "execution_count": 2,
   "id": "2aa6275f",
   "metadata": {},
   "outputs": [
    {
     "name": "stdout",
     "output_type": "stream",
     "text": [
      "Hello, Python!\n",
      "\n"
     ]
    }
   ],
   "source": [
    "with open(\"prac.txt\",\"w\") as f:\n",
    "    f.write(\"Hello, Python!\\n\")\n",
    "\n",
    "with open(\"prac.txt\",\"r\") as f:\n",
    "    con = f.read()\n",
    "    print(con)\n",
    "    "
   ]
  },
  {
   "cell_type": "markdown",
   "id": "263f0208",
   "metadata": {},
   "source": [
    "**Ask the user for their bio Data, then save it into a file.**"
   ]
  },
  {
   "cell_type": "code",
   "execution_count": 3,
   "id": "1ef3148a",
   "metadata": {},
   "outputs": [
    {
     "name": "stdout",
     "output_type": "stream",
     "text": [
      "BioData saved successfully!\n",
      "Hello, Python!\n",
      "BioData: usman, 22, bscs\n",
      "\n"
     ]
    }
   ],
   "source": [
    "\n",
    "with open(\"prac.txt\", \"a\") as f:\n",
    "\n",
    "    name, age, qualification = input(\"Enter you BioData space seperated: \").split(\" \")\n",
    "    age = int(age)\n",
    "    BioData = f\"BioData: {name}, {age}, {qualification}\\n\"\n",
    "   \n",
    "\n",
    "    f.write(BioData)\n",
    "    print(\"BioData saved successfully!\")\n",
    "\n",
    "# Read the file\n",
    "with open(\"prac.txt\", \"r\") as f:\n",
    "    print(f.read())\n"
   ]
  },
  {
   "cell_type": "markdown",
   "id": "8d1de449",
   "metadata": {},
   "source": [
    "**Write 5 lines into a file using a loop.**"
   ]
  },
  {
   "cell_type": "code",
   "execution_count": 4,
   "id": "953cf2a4",
   "metadata": {},
   "outputs": [
    {
     "name": "stdout",
     "output_type": "stream",
     "text": [
      "This is python-Filing Exercises for practice\n",
      "\n",
      "This is python-Filing Exercises for practice\n",
      "\n",
      "This is python-Filing Exercises for practice\n",
      "\n",
      "This is python-Filing Exercises for practice\n",
      "\n",
      "This is python-Filing Exercises for practice\n",
      "\n"
     ]
    }
   ],
   "source": [
    "with open(\"prac.txt\",\"a\") as f:\n",
    "\n",
    "    sen = \"This is python-Filing Exercises for practice\\n\"\n",
    "    for i in range(0, 5):\n",
    "        print(sen)\n",
    "        f.write(sen)\n"
   ]
  },
  {
   "cell_type": "markdown",
   "id": "42b73e34",
   "metadata": {},
   "source": [
    "**Read a file and count the number of characters in it.**"
   ]
  },
  {
   "cell_type": "code",
   "execution_count": 5,
   "id": "dac09177",
   "metadata": {},
   "outputs": [
    {
     "name": "stdout",
     "output_type": "stream",
     "text": [
      "Total `265` characters in a file\n"
     ]
    }
   ],
   "source": [
    "with open(\"prac.txt\", \"r\") as f:\n",
    "   \n",
    "    data = f.read()\n",
    "    count = 0\n",
    "\n",
    "    for i in data:\n",
    "        count += 1    # count = count + 1\n",
    "    print(f\"Total `{count}` characters in a file\")\n"
   ]
  },
  {
   "cell_type": "markdown",
   "id": "4cfc3bc2",
   "metadata": {},
   "source": [
    "**What happens if you open a file in \"w\" mode twice? Explain with code.**"
   ]
  },
  {
   "cell_type": "code",
   "execution_count": null,
   "id": "ac065393",
   "metadata": {},
   "outputs": [],
   "source": [
    "with open(\"prac.txt\", \"w\") as f:\n",
    "    f.write(\"The previous content will be erased from the file,\\n buz on first block of cell I already use write 'W' mode\")\n",
    "    "
   ]
  },
  {
   "cell_type": "markdown",
   "id": "effe86c6",
   "metadata": {},
   "source": [
    "**Write a program that reads a file line by line and prints only lines that contain the word \"Python\".**"
   ]
  },
  {
   "cell_type": "code",
   "execution_count": null,
   "id": "8b9167d9",
   "metadata": {},
   "outputs": [
    {
     "name": "stdout",
     "output_type": "stream",
     "text": [
      "Hello, This repo is about python Filing Exercises\n",
      "\n"
     ]
    }
   ],
   "source": [
    "# lets rewrite somethiing new in the file and save it \n",
    "\n",
    "with open(\"prac.txt\",\"w\") as f:\n",
    "    f.write(\"Hello, This repo is about python Filing Exercises\\n\")\n",
    "    f.writelines([\"This is the second line\\n\", \"This is the 3rd line but writing in same line\\n\" ])\n",
    "\n",
    "# now read line by line\n",
    "with open(\"prac.txt\", \"r\") as f:\n",
    "    for i in f:\n",
    "        if \"python\" in i:\n",
    "            print(i)\n",
    "     "
   ]
  },
  {
   "cell_type": "markdown",
   "id": "bbaf328e",
   "metadata": {},
   "source": [
    "**Input a list of student names and store into a file, then read and display them.**"
   ]
  },
  {
   "cell_type": "code",
   "execution_count": 19,
   "id": "fa127fcd",
   "metadata": {},
   "outputs": [
    {
     "name": "stdout",
     "output_type": "stream",
     "text": [
      "Hello, This repo is about python Filing Exercises\n",
      "This is the second line\n",
      "This is the 3rd line but writing in same line\n",
      "usmanasadzubairusman salman asad{101: 'usman'}\n",
      "usman asad\n",
      "\n",
      "\n"
     ]
    }
   ],
   "source": [
    "with open(\"prac.txt\",\"a\") as f:\n",
    "\n",
    "    lst_std = input(\"Enter the names of students: \").split()\n",
    "    f.write( \" \" .join(lst_std) + \"\\n\")\n",
    "\n",
    "with open(\"prac.txt\", \"r\") as f:\n",
    "    print(f.read())\n",
    "\n",
    "\n",
    "# i run 2 times thats why it print 2 times the list"
   ]
  },
  {
   "cell_type": "markdown",
   "id": "2304bbd8",
   "metadata": {},
   "source": [
    "**Write a program that saves a dictionary of employees ({id: name}) into a file, then reloads it back. Take dictionary from user**"
   ]
  },
  {
   "cell_type": "code",
   "execution_count": 21,
   "id": "deb9e014",
   "metadata": {},
   "outputs": [],
   "source": [
    "import json\n",
    "\n",
    "with open(\"prac.txt\",\"a\") as f:\n",
    "    \n",
    "    emp_DB = {}\n",
    "\n",
    "    while True:\n",
    "        stuff = input(\"Enter id and name of Employees (space seperated) and q to exit: \")\n",
    "   \n",
    "        if stuff == \"q\":\n",
    "            break\n",
    "        id_str, name = stuff.split(' ')\n",
    "        id = int(id_str)\n",
    "        emp_DB.update({id:name})\n",
    "\n",
    "    f.write(str(emp_DB) + \"\\n\") \n",
    "\n",
    "    # This is recommended (professional way to do)\n",
    "    f.write(json.dumps(emp_DB) + \"\\n\")  \n"
   ]
  },
  {
   "cell_type": "markdown",
   "id": "8a5ddb9d",
   "metadata": {},
   "source": [
    "**Write a program to copy the content of one file to another.**"
   ]
  },
  {
   "cell_type": "code",
   "execution_count": null,
   "id": "90f931c2",
   "metadata": {},
   "outputs": [],
   "source": []
  },
  {
   "cell_type": "markdown",
   "id": "8554dd23",
   "metadata": {},
   "source": [
    "**Program to read a file and print the longest word.**"
   ]
  },
  {
   "cell_type": "code",
   "execution_count": null,
   "id": "e2446773",
   "metadata": {},
   "outputs": [
    {
     "name": "stdout",
     "output_type": "stream",
     "text": [
      "Longest word is: usmanasadzubairusman\n"
     ]
    }
   ],
   "source": [
    "with open(\"prac.txt\",\"r\") as f:\n",
    "    longest = \"\"\n",
    "    for line in f:\n",
    "        words = line.split()\n",
    "\n",
    "        for i in words:\n",
    "            if len(i) > len(longest):\n",
    "                longest = i\n",
    "    print(f\"Longest word is: {longest}\")\n",
    "     "
   ]
  },
  {
   "cell_type": "markdown",
   "id": "19b30d73",
   "metadata": {},
   "source": [
    "**Implement a student report card system:\\\n",
    "Input name + marks for subjects.\\\n",
    "Save to file.\\\n",
    "Later, read and calculate percentage.**"
   ]
  },
  {
   "cell_type": "code",
   "execution_count": 24,
   "id": "e716b7e2",
   "metadata": {},
   "outputs": [],
   "source": [
    "# for this task lets create a new file \n",
    "import json\n",
    "with open(\"StudentReport.txt\",\"w\") as f:\n",
    "    StdRep = {}\n",
    "    while True:\n",
    "        stuff = input(\"Enter id and name of Students (space seperated) and q to exit: \")\n",
    "   \n",
    "        if stuff == \"q\":\n",
    "            break\n",
    "\n",
    "        id_str, name = stuff.split(' ')\n",
    "        id = int(id_str)\n",
    "        StdRep.update({id:name})\n",
    "\n",
    "    subjects = {}\n",
    "    num_subs = int(input(f\"How many subjects for {name}? \"))\n",
    "\n",
    "    for i in range(num_subs):\n",
    "            \n",
    "        subj = input(f\"Enter subject {i+1} name: \")\n",
    "        marks = float(input(f\"Enter marks for {subj}: \"))\n",
    "        subjects[subj] = marks\n",
    "\n",
    "        StdRep[id] = {\"name\": name, \"subjects\": subjects}\n",
    "        \n",
    "    f.write(str(StdRep))\n",
    "        \n",
    "    f.write(json.dumps(StdRep) + \"\\n\")  \n"
   ]
  },
  {
   "cell_type": "code",
   "execution_count": 29,
   "id": "4b228de6",
   "metadata": {},
   "outputs": [
    {
     "name": "stdout",
     "output_type": "stream",
     "text": [
      "All data saved successfully!\n",
      "{27557: {'name': 'usman', 'subjects': {'oython': 8.0, 'Eng': 67.0, 'Ml': 89.0}, 'percentage': 54.666666666666664}, 56778: {'name': 'asad', 'subjects': {'AI': 88.0, 'Usama': 90.0, 'Sql': 76.0}, 'percentage': 84.66666666666667}}\n"
     ]
    }
   ],
   "source": [
    "import json\n",
    "\n",
    "with open(\"StudentReport.txt\", \"w\") as f:\n",
    "    StdRep = {}\n",
    "    while True:\n",
    "        stuff = input(\"Enter ID and Name of Student (space separated) or 'q' to exit: \")\n",
    "\n",
    "        if stuff.lower() == \"q\":\n",
    "            break\n",
    "\n",
    "        id_str, name = stuff.split(' ')\n",
    "        id = int(id_str)\n",
    "\n",
    "        subjects = {}\n",
    "        total_marks = 0\n",
    "\n",
    "        num_subs = int(input(f\"How many subjects for {name}? \"))\n",
    "\n",
    "        for i in range(num_subs):\n",
    "            subj = input(f\"Enter subject {i+1} name: \")\n",
    "            marks = float(input(f\"Enter marks for {subj}: \"))\n",
    "            total_marks += marks\n",
    "\n",
    "            per = (total_marks / (num_subs * 100)) * 100 \n",
    "            subjects[subj] = marks\n",
    "\n",
    " \n",
    "        StdRep[id] = {\"name\": name, \"subjects\": subjects, \"percentage\": per}\n",
    "\n",
    "\n",
    "        f.write(json.dumps({id: StdRep[id]}))  \n",
    "        f.write(\"\\n\")  \n",
    "\n",
    "print(\"All data saved successfully!\")\n",
    "print(StdRep)\n"
   ]
  },
  {
   "cell_type": "markdown",
   "id": "53ac5ea1",
   "metadata": {},
   "source": [
    "**Program to merge two text files into one.**"
   ]
  },
  {
   "cell_type": "code",
   "execution_count": 31,
   "id": "e4b9257f",
   "metadata": {},
   "outputs": [],
   "source": [
    "# merge StdReport.txt and prac.txt files\n",
    "\n",
    "with open(\"StudentReport.txt\", \"r\") as f1, open(\"prac.txt\", \"r\") as f2:\n",
    "    data1, data2 = f1.read(), f2.read()\n",
    "\n",
    "with open(\"merged.txt\", \"w\") as f:\n",
    "    f.write(data1 + \"\\n\" + data2)\n"
   ]
  }
 ],
 "metadata": {
  "kernelspec": {
   "display_name": "Python 3",
   "language": "python",
   "name": "python3"
  },
  "language_info": {
   "codemirror_mode": {
    "name": "ipython",
    "version": 3
   },
   "file_extension": ".py",
   "mimetype": "text/x-python",
   "name": "python",
   "nbconvert_exporter": "python",
   "pygments_lexer": "ipython3",
   "version": "3.12.0"
  }
 },
 "nbformat": 4,
 "nbformat_minor": 5
}
