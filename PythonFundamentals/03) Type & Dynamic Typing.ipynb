{
 "cells": [
  {
   "cell_type": "markdown",
   "id": "d77cbf5e",
   "metadata": {},
   "source": [
    "<h1 align=\"center\" style=\"background-color:#001f3f;\n",
    "           color:white;\n",
    "           border-radius:8px;\n",
    "           font-family:'Times New Roman', Times, serif;\n",
    "           padding:20px;\n",
    "           display:inline-block;\">\n",
    "  TYPE CASTING\n",
    "</h1>\n"
   ]
  },
  {
   "cell_type": "markdown",
   "id": "e9618eaa",
   "metadata": {
    "vscode": {
     "languageId": "raw"
    }
   },
   "source": [
    "Type casting is the process of converting one data type into another.\n",
    "\n",
    "In Python, this is done using built-in functions (like int(), float(), str(), etc.).\n",
    "\n",
    "Python is dynamically typed, which means you don’t need to declare the type of a variable.\n",
    "But sometimes, explicit conversion (type casting) is required."
   ]
  },
  {
   "cell_type": "markdown",
   "id": "1143d041",
   "metadata": {},
   "source": [
    "<h1 style=\"background-color:#001f3f;\n",
    "           color:white;\n",
    "           border-radius:8px;\n",
    "           font-family:'Times New Roman', Times, serif;\n",
    "           padding:20px;\n",
    "           display:inline-block;\">\n",
    "  Types of Type Casting\n",
    "</h1>\n",
    "\n",
    "**<h2>1. Implicit Type Casting</h2>**\n",
    "\n",
    "<p>\n",
    "  Done automatically by Python when it promotes a smaller data type \n",
    "  to a bigger one (to prevent data loss).\n",
    "</p>\n"
   ]
  },
  {
   "cell_type": "code",
   "execution_count": null,
   "id": "4f152fc8",
   "metadata": {},
   "outputs": [
    {
     "name": "stdout",
     "output_type": "stream",
     "text": [
      "7.5\n",
      "<class 'float'>\n"
     ]
    }
   ],
   "source": [
    "x = 5      # int\n",
    "y = 2.5    # float\n",
    "\n",
    "result = x + y   # result = int + float → float\n",
    "\n",
    "print(result)    \n",
    "print(type(result))   \n"
   ]
  },
  {
   "cell_type": "markdown",
   "id": "02ec5a1b",
   "metadata": {},
   "source": [
    "# **2. Explicit Type Casting**\n",
    "\n",
    "Done manually by the programmer using casting functions."
   ]
  },
  {
   "cell_type": "code",
   "execution_count": 8,
   "id": "c5f5d51a",
   "metadata": {},
   "outputs": [
    {
     "name": "stdout",
     "output_type": "stream",
     "text": [
      "100\n",
      "3.14\n",
      "['h', 'e', 'l', 'l', 'o']\n"
     ]
    }
   ],
   "source": [
    "a = \"100\"\n",
    "b = \"3.14\"\n",
    "\n",
    "print(int(a))       # it will convert string to integer\n",
    "print(float(b))  \n",
    "\n",
    "\n",
    "print(list(\"hello\"))   # convert hello into list\n"
   ]
  },
  {
   "cell_type": "code",
   "execution_count": 9,
   "id": "c6789d01",
   "metadata": {},
   "outputs": [
    {
     "name": "stdout",
     "output_type": "stream",
     "text": [
      "52\n"
     ]
    }
   ],
   "source": [
    "a = \"50\"\n",
    "b = 2\n",
    "\n",
    "# If we don’t cast → Error: can't add str + int\n",
    "# print(a + b) ❌\n",
    "# so,\n",
    "print(int(a) + b) \n"
   ]
  },
  {
   "cell_type": "markdown",
   "id": "612c6978",
   "metadata": {},
   "source": [
    "# - **Dynamic Typing**\n",
    "\n",
    "Python is a dynamically typed language.\n",
    "This means you don’t need to declare the data type of a variable when creating it.\n",
    "\n",
    "The type is decided at runtime (when the program runs).\n",
    "\n",
    "A variable can change its type during execution."
   ]
  },
  {
   "cell_type": "code",
   "execution_count": 11,
   "id": "e31956c5",
   "metadata": {},
   "outputs": [
    {
     "name": "stdout",
     "output_type": "stream",
     "text": [
      "<class 'int'>\n",
      "<class 'str'>\n"
     ]
    }
   ],
   "source": [
    "x = 10        # x is of type int\n",
    "print(type(x))\n",
    "\n",
    "x = \"Hello\"   # now x becomes str\n",
    "print(type(x))"
   ]
  }
 ],
 "metadata": {
  "kernelspec": {
   "display_name": "Python 3",
   "language": "python",
   "name": "python3"
  },
  "language_info": {
   "codemirror_mode": {
    "name": "ipython",
    "version": 3
   },
   "file_extension": ".py",
   "mimetype": "text/x-python",
   "name": "python",
   "nbconvert_exporter": "python",
   "pygments_lexer": "ipython3",
   "version": "3.12.0"
  }
 },
 "nbformat": 4,
 "nbformat_minor": 5
}
