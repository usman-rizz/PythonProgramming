{
 "cells": [
  {
   "cell_type": "markdown",
   "id": "fe665a9d",
   "metadata": {},
   "source": [
    "<h1 align=\"center\" style=\"background-color:#001f3f;\n",
    "           color:white;\n",
    "           border-radius:8px;\n",
    "           font-family:'Times New Roman', Times, serif;\n",
    "           padding:20px;\n",
    "           display:inline-block;\">\n",
    "  Getting Started With Python!\n",
    "</h1>\n",
    "\n",
    "<hr>\n",
    "\n",
    "<p align=\"center\"><b>Author:</b> Muhammad Usman</p>\n",
    "<p align=\"center\"><b>Dated:</b> 24/Sept/2025</p>\n"
   ]
  },
  {
   "cell_type": "markdown",
   "id": "daaf168e",
   "metadata": {
    "vscode": {
     "languageId": "raw"
    }
   },
   "source": [
    "**What is Python?**\n",
    "\n",
    "Python is a `high-level`, `general-purpose programming language` created by *Guido van Rossum* in 1991. \n",
    "Its main goal was to make programming easier to read, write, and understand. \n",
    "Python looks close to plain English, which makes it a beginner’s best friend.\n",
    "\n",
    "\n",
    "It is called “general-purpose” because it’s not limited to one field, it can be used in web development, \n",
    "automation, data analysis, AI, scientific computing, and many more.\n",
    "\n",
    "\n",
    "Every program starts by writing some instructions for the computer. \n",
    "In Python, the simplest instruction is print(), which displays text or values on the screen."
   ]
  },
  {
   "cell_type": "markdown",
   "id": "a2d49a22",
   "metadata": {},
   "source": [
    "**First line of code**"
   ]
  },
  {
   "cell_type": "code",
   "execution_count": 1,
   "id": "e01d55ba",
   "metadata": {},
   "outputs": [
    {
     "name": "stdout",
     "output_type": "stream",
     "text": [
      "Hello, World!\n",
      "8\n"
     ]
    }
   ],
   "source": [
    "print(\"Hello, World!\")   \n",
    "print(5 + 3)             \n"
   ]
  },
  {
   "cell_type": "markdown",
   "id": "43aea1b0",
   "metadata": {},
   "source": [
    "<h1 style= \"background-color:#001f3f;\n",
    "           color:white;\n",
    "           border-radius:8px;\n",
    "           font-family:'Times New Roman', Times, serif;\n",
    "           padding:20px;\n",
    "           display:inline-block; \">        \n",
    "DATATYPES\n",
    "\n",
    "</h1>\n"
   ]
  },
  {
   "cell_type": "markdown",
   "id": "b490664d",
   "metadata": {
    "vscode": {
     "languageId": "raw"
    }
   },
   "source": [
    "It tells Python what type of data we are working with (numbers, text, boolean, etc.).\n",
    "\n",
    "Refer to the screenshots below .\n"
   ]
  },
  {
   "cell_type": "markdown",
   "id": "00ed58d1",
   "metadata": {},
   "source": [
    "<p align=\"center\">\n",
    "  <img src=\"images/S.S.jpg\" alt=\"screenshot\" width=\"500\">\n",
    "</p>\n",
    "\n",
    "\n"
   ]
  },
  {
   "cell_type": "markdown",
   "id": "5f613b94",
   "metadata": {
    "vscode": {
     "languageId": "raw"
    }
   },
   "source": [
    "## **1. Numbers**\n",
    "\n",
    "Numbers represent numeric values. They are `immutable.`\n",
    "\n",
    "int → Whole numbers (positive, negative, zero)\n",
    "float → Real numbers with decimals\n",
    "complex → Numbers with real and imaginary parts (a + bj)"
   ]
  },
  {
   "cell_type": "code",
   "execution_count": 1,
   "id": "22f096d4",
   "metadata": {},
   "outputs": [
    {
     "name": "stdout",
     "output_type": "stream",
     "text": [
      "<class 'int'>\n",
      "<class 'float'>\n",
      "<class 'complex'>\n"
     ]
    }
   ],
   "source": [
    "a = 10     \n",
    "b = -5.6     \n",
    "c = 2 + 3j     \n",
    "\n",
    "print(type(a))\n",
    "print(type(b)) \n",
    "print(type(c))"
   ]
  },
  {
   "cell_type": "markdown",
   "id": "bd9e9c6b",
   "metadata": {},
   "source": [
    "### **2.Dictionary (Mapping Type)**\n",
    "\n",
    "Dictionary is an `unordered collection of key-value pairs.`\n",
    "\n",
    "Keys must be `immutable` (str, number, tuple).\n",
    "\n",
    "Values can be of any type.\n",
    "\n",
    "**Mutable (can change after declaration).**\n",
    "**Note: Dictionary in Python is implemented using hash tables.**"
   ]
  },
  {
   "cell_type": "code",
   "execution_count": 1,
   "id": "a1ae5aa1",
   "metadata": {},
   "outputs": [
    {
     "name": "stdout",
     "output_type": "stream",
     "text": [
      "Osman\n"
     ]
    }
   ],
   "source": [
    "student = {\n",
    "    \"name\": \"Osman\", \n",
    "    \"age\": 22, \n",
    "    \"skills\": [\"Python\", \"SQL\"]\n",
    "    }\n",
    "\n",
    "print(student[\"name\"])\n",
    "\n",
    "student[\"age\"] = 26  \n",
    "\n",
    "student[\"city\"] = \"Karachi\"\n",
    "\n"
   ]
  },
  {
   "cell_type": "markdown",
   "id": "2e906806",
   "metadata": {},
   "source": [
    "### **3.Boolean**\n",
    "\n",
    "Represents logical values: True or False.\n",
    "\n",
    "Used in conditions and comparisons.\n",
    "\n",
    "Internally stored as 1 (True) and 0 (False).\n",
    "\n",
    "**Note: In Python, every object has a truthy or falsy value (e.g., 0, None, [], {} → False).**"
   ]
  },
  {
   "cell_type": "code",
   "execution_count": 3,
   "id": "fde10d76",
   "metadata": {},
   "outputs": [
    {
     "name": "stdout",
     "output_type": "stream",
     "text": [
      "False\n",
      "True\n"
     ]
    }
   ],
   "source": [
    "x = True\n",
    "y = False\n",
    "\n",
    "print(x and y)  \n",
    "print(5 > 3) "
   ]
  },
  {
   "cell_type": "markdown",
   "id": "7096d453",
   "metadata": {},
   "source": [
    "### **4.Set**\n",
    "\n",
    "Set is an unordered collection of unique elements. and remove duplicate values\n",
    "\n",
    "set are Mutable\n",
    "\n",
    "frozenset are Immutable"
   ]
  },
  {
   "cell_type": "code",
   "execution_count": 4,
   "id": "b2abdc26",
   "metadata": {},
   "outputs": [
    {
     "name": "stdout",
     "output_type": "stream",
     "text": [
      "{1, 2, 3, 4}\n",
      "frozenset({10, 20, 30})\n"
     ]
    }
   ],
   "source": [
    "s = {1, 2, 3, 3, 4}\n",
    "print(s)    \n",
    "\n",
    "fs = frozenset([10, 20, 20, 30])\n",
    "print(fs)  "
   ]
  },
  {
   "cell_type": "markdown",
   "id": "27126be5",
   "metadata": {},
   "source": [
    "\n",
    "### **5.Sequence Type**\n",
    "\n",
    "Sequence means `ordered collection` of items.\n",
    "\n",
    "**Note: List → mutable, slower, more memory.\\\n",
    "Tuple → immutable, faster, lightweight.**"
   ]
  },
  {
   "cell_type": "code",
   "execution_count": 5,
   "id": "55efbd58",
   "metadata": {},
   "outputs": [
    {
     "name": "stdout",
     "output_type": "stream",
     "text": [
      "P\n",
      "PYTHON\n",
      "[1, 2, 3, 'hello', 4]\n",
      "20\n"
     ]
    }
   ],
   "source": [
    "# (a) Strings (str)\n",
    "\n",
    "# Immutable sequence of characters.\n",
    "\n",
    "s = \"Python\"\n",
    "print(s[0])      \n",
    "print(s.upper()) \n",
    "\n",
    "# (b) List\n",
    "\n",
    "# list is `Ordered, mutable collections of items` including `different datatypes`.\n",
    "\n",
    "nums = [1, 2, 3, \"hello\"]\n",
    "nums.append(4)\n",
    "print(nums)    \n",
    "\n",
    "# (c) Tuple\n",
    "\n",
    "# Ordered, immutable collection.\n",
    "\n",
    "t = (10, 20, 30)\n",
    "print(t[1])    \n",
    "# print(t[2] = 40)         Error (cannot modify tuple)"
   ]
  },
  {
   "cell_type": "markdown",
   "id": "80e04a48",
   "metadata": {
    "vscode": {
     "languageId": "raw"
    }
   },
   "source": [
    "### **Mutable vs Immutable**\n",
    "\n",
    "`Mutable (can change)`: list, dict, set, bytearray.\\\n",
    "`Immutable (cannot change)`: int, float, str, tuple, frozenset, bool, None\n"
   ]
  },
  {
   "cell_type": "markdown",
   "id": "ea672b94",
   "metadata": {},
   "source": [
    "- **If we want to know the type of data we are working with, we can use the type() function.**"
   ]
  },
  {
   "cell_type": "code",
   "execution_count": 2,
   "id": "b0d86942",
   "metadata": {},
   "outputs": [
    {
     "name": "stdout",
     "output_type": "stream",
     "text": [
      "<class 'str'>\n",
      "<class 'int'>\n",
      "<class 'float'>\n",
      "<class 'bool'>\n",
      "<class 'bool'>\n",
      "<class 'float'>\n",
      "<class 'bool'>\n",
      "<class 'bool'>\n",
      "<class 'bool'>\n"
     ]
    }
   ],
   "source": [
    "print(type(\"Hello, World!\")) \n",
    "print(type(5))               \n",
    "print(type(5.0))              \n",
    "print(type(5 > 3))\n",
    "print(type(True))\n",
    "print(type(3 + 5.0))\n",
    "print(type(3 + 5 > 10))\n",
    "print(type(3 + 5 > 10 and 5 > 3))\n",
    "print(type(3 + 5 > 10 or 5 > 3 and not(3 + 5 > 10 or 5 > 3)))\n",
    "\n",
    "\n",
    "# comparision operators : > , < , >= , <= , == , != will always return boolean values ( True or False )\n",
    "\n",
    "# logical operators : and , or , not will always return boolean values ( True or False )\n",
    "\n",
    "\n",
    "# will talk about these in detail later"
   ]
  }
 ],
 "metadata": {
  "kernelspec": {
   "display_name": "Python 3",
   "language": "python",
   "name": "python3"
  },
  "language_info": {
   "codemirror_mode": {
    "name": "ipython",
    "version": 3
   },
   "file_extension": ".py",
   "mimetype": "text/x-python",
   "name": "python",
   "nbconvert_exporter": "python",
   "pygments_lexer": "ipython3",
   "version": "3.12.0"
  }
 },
 "nbformat": 4,
 "nbformat_minor": 5
}
