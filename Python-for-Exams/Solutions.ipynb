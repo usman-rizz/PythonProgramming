{
 "cells": [
  {
   "cell_type": "markdown",
   "id": "fea34802",
   "metadata": {},
   "source": [
    "## **Scenerio 1: File and exception Handling**"
   ]
  },
  {
   "cell_type": "code",
   "execution_count": 53,
   "id": "626831e7",
   "metadata": {},
   "outputs": [
    {
     "name": "stdout",
     "output_type": "stream",
     "text": [
      "Error: Grace has an invalid grade -> 'Invalid Grade'\n",
      "Average grade: 84.17\n"
     ]
    }
   ],
   "source": [
    "# Define a simple custom error\n",
    "class GradeError(Exception):\n",
    "    pass\n",
    "\n",
    "def process_grades(file_name):\n",
    "    try:\n",
    "        with open(file_name, 'r') as f:\n",
    "            lines = f.readlines()\n",
    "    except FileNotFoundError:\n",
    "        print(\"File not found. Please check the filename.\")\n",
    "        return\n",
    "\n",
    "    total = 0\n",
    "    count = 0\n",
    "\n",
    "    for line in lines:\n",
    "        parts = line.strip().split(',')\n",
    "        if len(parts) != 2:\n",
    "            continue  # skip invalid lines\n",
    "\n",
    "        name = parts[0].strip()\n",
    "        grade_text = parts[1].strip()\n",
    "\n",
    "        try:\n",
    "            grade = int(grade_text)\n",
    "            total += grade\n",
    "            count += 1\n",
    "        except ValueError:\n",
    "            print(f\"Error: {name} has an invalid grade -> '{grade_text}'\")\n",
    "\n",
    "    if count > 0:\n",
    "        avg = total / count\n",
    "        print(\"Average grade:\", round(avg, 2))\n",
    "    else:\n",
    "        print(\"No valid grades to calculate average.\")\n",
    "\n",
    "# Calling the function\n",
    "process_grades(\"student_records.txt\")\n"
   ]
  },
  {
   "cell_type": "markdown",
   "id": "42c678bc",
   "metadata": {},
   "source": [
    "## **Scenario 2: Object-Oriented Programming and Inheritance.**"
   ]
  },
  {
   "cell_type": "code",
   "execution_count": null,
   "id": "91bf52c8",
   "metadata": {},
   "outputs": [],
   "source": [
    "class Vehicle:\n",
    "    def __init__(self, make, model, year):\n",
    "        self.make = make\n",
    "        self.model = model\n",
    "        self.year = year\n",
    "\n",
    "    def display_info(self):\n",
    "        print(f\"Vehicle Info → {self.year} {self.make} {self.model}\")"
   ]
  },
  {
   "cell_type": "code",
   "execution_count": null,
   "id": "15d0b891",
   "metadata": {},
   "outputs": [],
   "source": [
    "# Derived class for Car\n",
    "\n",
    "class Car(Vehicle):\n",
    "    def __init__(self, make, model, year, doors):\n",
    "        super().__init__(make, model, year)\n",
    "        self.doors = doors\n",
    "\n",
    "    def display_info(self):\n",
    "        super().display_info()\n",
    "        print(f\"Number of doors: {self.doors}\")\n",
    "\n",
    "    def accelerate(self):\n",
    "        print(f\"{self.make} {self.model} is accelerating smoothly!\")"
   ]
  },
  {
   "cell_type": "code",
   "execution_count": null,
   "id": "20370b4c",
   "metadata": {},
   "outputs": [],
   "source": [
    "# Derived class for Truck\n",
    "\n",
    "class Truck(Vehicle):\n",
    "    def __init__(self, make, model, year, capacity):\n",
    "        super().__init__(make, model, year)\n",
    "        self.capacity = capacity\n",
    "\n",
    "    def display_info(self):\n",
    "        super().display_info()\n",
    "        print(f\"Cargo capacity: {self.capacity} tons\")\n",
    "\n",
    "    def load_cargo(self):\n",
    "        print(f\"{self.make} {self.model} is loading cargo...\")"
   ]
  },
  {
   "cell_type": "code",
   "execution_count": 23,
   "id": "70c85b58",
   "metadata": {},
   "outputs": [],
   "source": [
    "# Derived class for Motorcycle\n",
    "class Motorcycle(Vehicle):\n",
    "    def __init__(self, make, model, year, drive_type):\n",
    "        super().__init__(make, model, year)\n",
    "        self.drive_type = drive_type\n",
    "\n",
    "    def display_info(self):\n",
    "        super().display_info()\n",
    "        print(f\"Type of drive: {self.drive_type}\")\n",
    "\n",
    "    def wheelie(self):\n",
    "        print(f\"{self.make} {self.model} performs a cool wheelie!\")"
   ]
  },
  {
   "cell_type": "code",
   "execution_count": null,
   "id": "7feafd6e",
   "metadata": {},
   "outputs": [],
   "source": [
    "# Inputing inheritance\n",
    "\n",
    "if __name__ == \"__main__\":\n",
    "    car1 = Car(\"Toyota\", \"Corolla\", 2020, 4)\n",
    "    truck1 = Truck(\"Suzuki\", \"Shahrooz\", 2019, 18)\n",
    "    bike1 = Motorcycle(\"KIA\", \"Picanto\", 2022, \"Chain Drive\")"
   ]
  },
  {
   "cell_type": "code",
   "execution_count": 30,
   "id": "38780ae5",
   "metadata": {},
   "outputs": [
    {
     "name": "stdout",
     "output_type": "stream",
     "text": [
      "\n",
      "--- Car Details ---\n",
      "Vehicle Info → 2020 Toyota Corolla\n",
      "Number of doors: 4\n",
      "Toyota Corolla is accelerating smoothly!\n",
      "\n",
      "--- Truck Details ---\n",
      "Vehicle Info → 2019 Suzuki Shahrooz\n",
      "Cargo capacity: 18 tons\n",
      "Suzuki Shahrooz is loading cargo...\n",
      "\n",
      "--- Motorcycle Details ---\n",
      "Vehicle Info → 2022 KIA Picanto\n",
      "Type of drive: Chain Drive\n",
      "KIA Picanto performs a cool wheelie!\n"
     ]
    }
   ],
   "source": [
    "print(\"\\n--- Car Details ---\")\n",
    "car1.display_info()\n",
    "car1.accelerate()\n",
    "\n",
    "print(\"\\n--- Truck Details ---\")\n",
    "truck1.display_info()\n",
    "truck1.load_cargo()\n",
    "\n",
    "print(\"\\n--- Motorcycle Details ---\")\n",
    "bike1.display_info()\n",
    "bike1.wheelie()"
   ]
  },
  {
   "cell_type": "markdown",
   "id": "c125ac67",
   "metadata": {},
   "source": [
    "## **Scenario 3: Functions and Modules (Library Management System)**"
   ]
  },
  {
   "cell_type": "code",
   "execution_count": null,
   "id": "481b7a43",
   "metadata": {},
   "outputs": [],
   "source": [
    "import math\n",
    "\n",
    "# Dictionary to store all books\n",
    "library = {}\n",
    "\n",
    "# Inventory Functions\n",
    "\n",
    "def add_book(book_id, title):\n",
    "    library[book_id] = {'title': title, 'available': True, 'days': 0}\n",
    "    print(f\"Book '{title}' added successfully!\")\n",
    "\n",
    "def remove_book(book_id):\n",
    "    if book_id in library:\n",
    "        book = library.pop(book_id)\n",
    "        print(f\"Book '{book['title']}' removed from library.\")\n",
    "    else:\n",
    "        print(\"Book not found!\")\n",
    "\n",
    "def show_books():\n",
    "\n",
    "    print(\"\\n------ Library Books ------\")\n",
    "    if len(library) == 0:\n",
    "        print(\"No books in the library.\")\n",
    "    else:\n",
    "        for bid, info in library.items():\n",
    "            status = \"Available\" if info['available'] else \"Borrowed\"\n",
    "            print(f\"ID: {bid} | Title: {info['title']} | Status: {status} | Days: {info['days']}\")\n",
    "\n",
    "    print(\"---------------------------\")"
   ]
  },
  {
   "cell_type": "code",
   "execution_count": 58,
   "id": "6e892e31",
   "metadata": {},
   "outputs": [],
   "source": [
    "# ---------- Borrow and Return ----------\n",
    "\n",
    "def borrow_book(book_id, days):\n",
    "    if book_id in library and library[book_id]['available'] == True:\n",
    "        library[book_id]['available'] = False\n",
    "        library[book_id]['days'] = days\n",
    "        print(f\"You borrowed '{library[book_id]['title']}' for {days} days.\")\n",
    "    else:\n",
    "        print(\"Book not available or does not exist.\")\n",
    "\n",
    "def return_book(book_id, total_days):\n",
    "    if book_id in library and library[book_id]['available'] == False:\n",
    "        borrow_days = library[book_id]['days']\n",
    "        extra = total_days - borrow_days\n",
    "        fine = calculate_fine(extra)\n",
    "        library[book_id]['available'] = True\n",
    "        library[book_id]['days'] = 0\n",
    "        print(f\"Book '{library[book_id]['title']}' returned successfully.\")\n",
    "        print(f\"Fine amount: Rs {fine}\")\n",
    "    else:\n",
    "        print(\"Book was not borrowed or not found.\")\n"
   ]
  },
  {
   "cell_type": "code",
   "execution_count": 59,
   "id": "7773ad31",
   "metadata": {},
   "outputs": [],
   "source": [
    "# Fine Calculation (using math)\n",
    "\n",
    "def calculate_fine(extra_days):\n",
    "    if extra_days > 0:\n",
    "        return math.ceil(extra_days * 5)\n",
    "    else:\n",
    "        return 0"
   ]
  },
  {
   "cell_type": "code",
   "execution_count": 60,
   "id": "5e510e49",
   "metadata": {},
   "outputs": [],
   "source": [
    "# Lambda to filter overdue books \n",
    "find_overdue = lambda books: {bid: info for bid, info in books.items() if info['days'] > 7}\n",
    "\n",
    "# List comprehension \n",
    "def borrowed_report():\n",
    "    borrowed = [info['title'] for info in library.values() if info['available'] == False]\n",
    "    print(\"\\nBorrowed Books Report:\")\n",
    "    if len(borrowed) == 0:\n",
    "        print(\"No borrowed books right now.\")\n",
    "    else:\n",
    "        for title in borrowed:\n",
    "            print(\"-\", title)\n"
   ]
  },
  {
   "cell_type": "code",
   "execution_count": 61,
   "id": "2c50e3a3",
   "metadata": {},
   "outputs": [
    {
     "name": "stdout",
     "output_type": "stream",
     "text": [
      "Book 'Python Basics' added successfully!\n",
      "Book 'Data Structures' added successfully!\n",
      "Book 'Artificial Intelligence' added successfully!\n",
      "\n",
      "------ Library Books ------\n",
      "ID: 1 | Title: Python Basics | Status: Available | Days: 0\n",
      "ID: 2 | Title: Data Structures | Status: Available | Days: 0\n",
      "ID: 3 | Title: Artificial Intelligence | Status: Available | Days: 0\n",
      "---------------------------\n",
      "You borrowed 'Python Basics' for 5 days.\n",
      "You borrowed 'Artificial Intelligence' for 10 days.\n",
      "\n",
      "------ Library Books ------\n",
      "ID: 1 | Title: Python Basics | Status: Borrowed | Days: 5\n",
      "ID: 2 | Title: Data Structures | Status: Available | Days: 0\n",
      "ID: 3 | Title: Artificial Intelligence | Status: Borrowed | Days: 10\n",
      "---------------------------\n",
      "Book 'Python Basics' returned successfully.\n",
      "Fine amount: Rs 15\n",
      "\n",
      "Overdue Books (more than 7 days):\n",
      "- Artificial Intelligence (Held 10 days)\n",
      "\n",
      "Borrowed Books Report:\n",
      "- Artificial Intelligence\n"
     ]
    }
   ],
   "source": [
    "def main():\n",
    "    # Add books\n",
    "    add_book(1, \"Python Basics\")\n",
    "    add_book(2, \"Data Structures\")\n",
    "    add_book(3, \"Artificial Intelligence\")\n",
    "\n",
    "    # Show all books\n",
    "    show_books()\n",
    "\n",
    "    # Borrow a few books\n",
    "    borrow_book(1, 5)\n",
    "    borrow_book(3, 10)\n",
    "\n",
    "    # Show after borrowing\n",
    "    show_books()\n",
    "\n",
    "    # Return a book after some days\n",
    "    return_book(1, 8)  # returned after 8 days\n",
    "\n",
    "    # Show overdue books using lambda\n",
    "    overdue = find_overdue(library)\n",
    "    print(\"\\nOverdue Books (more than 7 days):\")\n",
    "    if len(overdue) == 0:\n",
    "        print(\"No overdue books.\")\n",
    "    else:\n",
    "        for bid, info in overdue.items():\n",
    "            print(f\"- {info['title']} (Held {info['days']} days)\")\n",
    "\n",
    "    # Borrowed books report using list comprehension\n",
    "    borrowed_report()\n",
    "\n",
    "if __name__ == \"__main__\":\n",
    "    main()"
   ]
  },
  {
   "cell_type": "markdown",
   "id": "673e6d4e",
   "metadata": {},
   "source": [
    "## **Scenario 4: Debugging**"
   ]
  },
  {
   "cell_type": "code",
   "execution_count": 50,
   "id": "833b21be",
   "metadata": {},
   "outputs": [
    {
     "name": "stdout",
     "output_type": "stream",
     "text": [
      "Total: 15\n",
      "Product: 120\n",
      "Average: 3.0\n"
     ]
    }
   ],
   "source": [
    "def perform_operations(numbers):\n",
    "\n",
    "    total = 0\n",
    "    product = 1\n",
    "\n",
    "    for num in numbers:\n",
    "        total += num\n",
    "        product *= num\n",
    "\n",
    "    average = total / len(numbers)\n",
    "    return total, product, average\n",
    "\n",
    "numbers = [1, 2, 3, 4, 5]\n",
    "total, product, average = perform_operations(numbers)\n",
    "\n",
    "print(\"Total:\", total)\n",
    "print(\"Product:\", product)\n",
    "print(\"Average:\", average)\n"
   ]
  }
 ],
 "metadata": {
  "kernelspec": {
   "display_name": "Python 3",
   "language": "python",
   "name": "python3"
  },
  "language_info": {
   "codemirror_mode": {
    "name": "ipython",
    "version": 3
   },
   "file_extension": ".py",
   "mimetype": "text/x-python",
   "name": "python",
   "nbconvert_exporter": "python",
   "pygments_lexer": "ipython3",
   "version": "3.12.0"
  }
 },
 "nbformat": 4,
 "nbformat_minor": 5
}
